{
  "nbformat": 4,
  "nbformat_minor": 0,
  "metadata": {
    "colab": {
      "provenance": []
    },
    "kernelspec": {
      "name": "python3",
      "display_name": "Python 3"
    },
    "language_info": {
      "name": "python"
    }
  },
  "cells": [
    {
      "cell_type": "markdown",
      "source": [
        "Python Pandas is an open-source data manipulation and analysis library built on top of the Python programming language. It provides data structures and functions that make it easy to work with structured data, such as tabular data, time series, and heterogeneous data.\n",
        "\n",
        "Here are some key features of Pandas:\n",
        "\n",
        "1. Data structures: Pandas provides two main data structures - Series and DataFrame. Series is a one-dimensional array-like object, and DataFrame is a two-dimensional tabular data structure similar to a spreadsheet or SQL table.\n",
        "\n",
        "2. Data manipulation: Pandas offers a wide range of tools for cleaning, transforming, and analyzing data. It includes functions for filtering, sorting, grouping, merging, joining, reshaping, and aggregating data.\n",
        "\n",
        "3. Missing data handling: Pandas provides methods for handling missing data, including filling in missing values, removing rows or columns with missing values, and interpolating missing values.\n",
        "\n",
        "4. Time series functionality: Pandas has robust support for working with time series data, including date/time indexing, resampling, and frequency conversion.\n",
        "\n",
        "5. Input/output tools: Pandas supports reading and writing data in various formats, including CSV, Excel, SQL databases, JSON, HTML, and HDF5.\n",
        "\n",
        "6. Integration with other libraries: Pandas integrates well with other popular Python libraries for data analysis and visualization, such as NumPy, Matplotlib, Seaborn, and Scikit-learn.\n",
        "\n",
        "Real-world scenarios where Pandas is commonly used include:\n",
        "\n",
        "1. Data cleaning and preprocessing: Before performing any analysis or modeling on a dataset, it often requires cleaning and preprocessing. Pandas provides powerful tools for handling missing values, removing duplicates, converting data types, and restructuring data.\n",
        "\n",
        "2. Data analysis and exploration: Pandas makes it easy to perform exploratory data analysis (EDA) by computing descriptive statistics, generating summary tables, and visualizing data using built-in plotting functions or integration with Matplotlib and Seaborn.\n",
        "\n",
        "3. Time series analysis: Pandas is widely used for analyzing time series data, such as financial data, sensor data, or weather data. It provides functionalities for resampling, time shifting, rolling window calculations, and analyzing trends and seasonality.\n",
        "\n",
        "4. Data manipulation and transformation: Pandas is invaluable for transforming and reshaping data, such as pivoting tables, merging multiple datasets, and performing group-by operations.\n",
        "\n",
        "5. Data integration and preparation for machine learning: Pandas can be used to integrate data from various sources, clean and preprocess the data, and prepare it for machine learning models. It allows users to select features, scale or normalize data, and split datasets into training and testing sets.\n",
        "\n",
        "Overall, Pandas is a versatile and powerful library that simplifies data manipulation and analysis tasks in Python, making it an essential tool for data scientists, analysts, and developers working with structured data."
      ],
      "metadata": {
        "id": "fyGFskZ1rdE2"
      }
    },
    {
      "cell_type": "code",
      "source": [
        "from google.colab import files\n",
        "uploaded = files.upload()"
      ],
      "metadata": {
        "colab": {
          "base_uri": "https://localhost:8080/",
          "height": 74
        },
        "id": "um7w2mf9vJtf",
        "outputId": "2c8d3630-288f-41ca-e8a7-2836789c3d60"
      },
      "execution_count": null,
      "outputs": [
        {
          "output_type": "display_data",
          "data": {
            "text/plain": [
              "<IPython.core.display.HTML object>"
            ],
            "text/html": [
              "\n",
              "     <input type=\"file\" id=\"files-3bb86a9f-402d-41bb-b47d-412bb1c56869\" name=\"files[]\" multiple disabled\n",
              "        style=\"border:none\" />\n",
              "     <output id=\"result-3bb86a9f-402d-41bb-b47d-412bb1c56869\">\n",
              "      Upload widget is only available when the cell has been executed in the\n",
              "      current browser session. Please rerun this cell to enable.\n",
              "      </output>\n",
              "      <script>// Copyright 2017 Google LLC\n",
              "//\n",
              "// Licensed under the Apache License, Version 2.0 (the \"License\");\n",
              "// you may not use this file except in compliance with the License.\n",
              "// You may obtain a copy of the License at\n",
              "//\n",
              "//      http://www.apache.org/licenses/LICENSE-2.0\n",
              "//\n",
              "// Unless required by applicable law or agreed to in writing, software\n",
              "// distributed under the License is distributed on an \"AS IS\" BASIS,\n",
              "// WITHOUT WARRANTIES OR CONDITIONS OF ANY KIND, either express or implied.\n",
              "// See the License for the specific language governing permissions and\n",
              "// limitations under the License.\n",
              "\n",
              "/**\n",
              " * @fileoverview Helpers for google.colab Python module.\n",
              " */\n",
              "(function(scope) {\n",
              "function span(text, styleAttributes = {}) {\n",
              "  const element = document.createElement('span');\n",
              "  element.textContent = text;\n",
              "  for (const key of Object.keys(styleAttributes)) {\n",
              "    element.style[key] = styleAttributes[key];\n",
              "  }\n",
              "  return element;\n",
              "}\n",
              "\n",
              "// Max number of bytes which will be uploaded at a time.\n",
              "const MAX_PAYLOAD_SIZE = 100 * 1024;\n",
              "\n",
              "function _uploadFiles(inputId, outputId) {\n",
              "  const steps = uploadFilesStep(inputId, outputId);\n",
              "  const outputElement = document.getElementById(outputId);\n",
              "  // Cache steps on the outputElement to make it available for the next call\n",
              "  // to uploadFilesContinue from Python.\n",
              "  outputElement.steps = steps;\n",
              "\n",
              "  return _uploadFilesContinue(outputId);\n",
              "}\n",
              "\n",
              "// This is roughly an async generator (not supported in the browser yet),\n",
              "// where there are multiple asynchronous steps and the Python side is going\n",
              "// to poll for completion of each step.\n",
              "// This uses a Promise to block the python side on completion of each step,\n",
              "// then passes the result of the previous step as the input to the next step.\n",
              "function _uploadFilesContinue(outputId) {\n",
              "  const outputElement = document.getElementById(outputId);\n",
              "  const steps = outputElement.steps;\n",
              "\n",
              "  const next = steps.next(outputElement.lastPromiseValue);\n",
              "  return Promise.resolve(next.value.promise).then((value) => {\n",
              "    // Cache the last promise value to make it available to the next\n",
              "    // step of the generator.\n",
              "    outputElement.lastPromiseValue = value;\n",
              "    return next.value.response;\n",
              "  });\n",
              "}\n",
              "\n",
              "/**\n",
              " * Generator function which is called between each async step of the upload\n",
              " * process.\n",
              " * @param {string} inputId Element ID of the input file picker element.\n",
              " * @param {string} outputId Element ID of the output display.\n",
              " * @return {!Iterable<!Object>} Iterable of next steps.\n",
              " */\n",
              "function* uploadFilesStep(inputId, outputId) {\n",
              "  const inputElement = document.getElementById(inputId);\n",
              "  inputElement.disabled = false;\n",
              "\n",
              "  const outputElement = document.getElementById(outputId);\n",
              "  outputElement.innerHTML = '';\n",
              "\n",
              "  const pickedPromise = new Promise((resolve) => {\n",
              "    inputElement.addEventListener('change', (e) => {\n",
              "      resolve(e.target.files);\n",
              "    });\n",
              "  });\n",
              "\n",
              "  const cancel = document.createElement('button');\n",
              "  inputElement.parentElement.appendChild(cancel);\n",
              "  cancel.textContent = 'Cancel upload';\n",
              "  const cancelPromise = new Promise((resolve) => {\n",
              "    cancel.onclick = () => {\n",
              "      resolve(null);\n",
              "    };\n",
              "  });\n",
              "\n",
              "  // Wait for the user to pick the files.\n",
              "  const files = yield {\n",
              "    promise: Promise.race([pickedPromise, cancelPromise]),\n",
              "    response: {\n",
              "      action: 'starting',\n",
              "    }\n",
              "  };\n",
              "\n",
              "  cancel.remove();\n",
              "\n",
              "  // Disable the input element since further picks are not allowed.\n",
              "  inputElement.disabled = true;\n",
              "\n",
              "  if (!files) {\n",
              "    return {\n",
              "      response: {\n",
              "        action: 'complete',\n",
              "      }\n",
              "    };\n",
              "  }\n",
              "\n",
              "  for (const file of files) {\n",
              "    const li = document.createElement('li');\n",
              "    li.append(span(file.name, {fontWeight: 'bold'}));\n",
              "    li.append(span(\n",
              "        `(${file.type || 'n/a'}) - ${file.size} bytes, ` +\n",
              "        `last modified: ${\n",
              "            file.lastModifiedDate ? file.lastModifiedDate.toLocaleDateString() :\n",
              "                                    'n/a'} - `));\n",
              "    const percent = span('0% done');\n",
              "    li.appendChild(percent);\n",
              "\n",
              "    outputElement.appendChild(li);\n",
              "\n",
              "    const fileDataPromise = new Promise((resolve) => {\n",
              "      const reader = new FileReader();\n",
              "      reader.onload = (e) => {\n",
              "        resolve(e.target.result);\n",
              "      };\n",
              "      reader.readAsArrayBuffer(file);\n",
              "    });\n",
              "    // Wait for the data to be ready.\n",
              "    let fileData = yield {\n",
              "      promise: fileDataPromise,\n",
              "      response: {\n",
              "        action: 'continue',\n",
              "      }\n",
              "    };\n",
              "\n",
              "    // Use a chunked sending to avoid message size limits. See b/62115660.\n",
              "    let position = 0;\n",
              "    do {\n",
              "      const length = Math.min(fileData.byteLength - position, MAX_PAYLOAD_SIZE);\n",
              "      const chunk = new Uint8Array(fileData, position, length);\n",
              "      position += length;\n",
              "\n",
              "      const base64 = btoa(String.fromCharCode.apply(null, chunk));\n",
              "      yield {\n",
              "        response: {\n",
              "          action: 'append',\n",
              "          file: file.name,\n",
              "          data: base64,\n",
              "        },\n",
              "      };\n",
              "\n",
              "      let percentDone = fileData.byteLength === 0 ?\n",
              "          100 :\n",
              "          Math.round((position / fileData.byteLength) * 100);\n",
              "      percent.textContent = `${percentDone}% done`;\n",
              "\n",
              "    } while (position < fileData.byteLength);\n",
              "  }\n",
              "\n",
              "  // All done.\n",
              "  yield {\n",
              "    response: {\n",
              "      action: 'complete',\n",
              "    }\n",
              "  };\n",
              "}\n",
              "\n",
              "scope.google = scope.google || {};\n",
              "scope.google.colab = scope.google.colab || {};\n",
              "scope.google.colab._files = {\n",
              "  _uploadFiles,\n",
              "  _uploadFilesContinue,\n",
              "};\n",
              "})(self);\n",
              "</script> "
            ]
          },
          "metadata": {}
        },
        {
          "output_type": "stream",
          "name": "stdout",
          "text": [
            "Saving NewData.csv to NewData.csv\n"
          ]
        }
      ]
    },
    {
      "cell_type": "code",
      "source": [
        "#Creating a DataFrame:\n",
        "\n",
        "import pandas as pd\n",
        "\n",
        "# Creating a DataFrame from a dictionary\n",
        "data = {'Name': ['Alice', 'Bob', 'Charlie', 'David'],\n",
        "        'Age': [25, 30, 35, 40],\n",
        "        'City': ['New York', 'Los Angeles', 'Chicago', 'Houston']}\n",
        "df = pd.DataFrame(data)\n",
        "print(df)"
      ],
      "metadata": {
        "colab": {
          "base_uri": "https://localhost:8080/"
        },
        "id": "rbzYVGP0tgIh",
        "outputId": "f17f9c04-ee3d-42ba-ddfe-5eb849419428"
      },
      "execution_count": null,
      "outputs": [
        {
          "output_type": "stream",
          "name": "stdout",
          "text": [
            "      Name  Age         City\n",
            "0    Alice   25     New York\n",
            "1      Bob   30  Los Angeles\n",
            "2  Charlie   35      Chicago\n",
            "3    David   40      Houston\n"
          ]
        }
      ]
    },
    {
      "cell_type": "code",
      "source": [
        "import pandas as pd\n",
        "\n",
        "StudentSet = {'SName' : ['S1', 'S2', 'S3'],\n",
        "              'SRollNo' : ['GLA123', 'GLA234', 'GLA356'],\n",
        "              'Marks': [34, 45, 67]\n",
        "              }\n",
        "myStudData = pd.DataFrame(StudentSet)\n",
        "print(myStudData)"
      ],
      "metadata": {
        "colab": {
          "base_uri": "https://localhost:8080/"
        },
        "id": "5KnB3ry-vXbn",
        "outputId": "c7b6482f-9bea-4061-a499-6bd8e4dfffed"
      },
      "execution_count": null,
      "outputs": [
        {
          "output_type": "stream",
          "name": "stdout",
          "text": [
            "  SName SRollNo  Marks\n",
            "0    S1  GLA123     34\n",
            "1    S2  GLA234     45\n",
            "2    S3  GLA356     67\n"
          ]
        }
      ]
    },
    {
      "cell_type": "code",
      "source": [
        "import pandas as pd\n",
        "mydata = {\"Student_Name\" : ['S1', 'S2', 'S3', 'S4', 'S5'],\n",
        "          \"Marks\": [60, 75, 88, 89, 90],\n",
        "          \"Section\": ['CF','CA','CF','CB', 'EA']}\n",
        "myDisplay = pd.DataFrame(mydata)\n",
        "print(myDisplay)"
      ],
      "metadata": {
        "colab": {
          "base_uri": "https://localhost:8080/"
        },
        "id": "HGkFzbyP1pY3",
        "outputId": "d04e9ff0-9891-4ba0-a15f-507f4e792d20"
      },
      "execution_count": null,
      "outputs": [
        {
          "output_type": "stream",
          "name": "stdout",
          "text": [
            "  Student_Name  Marks Section\n",
            "0           S1     60      CF\n",
            "1           S2     75      CA\n",
            "2           S3     88      CF\n",
            "3           S4     89      CB\n",
            "4           S5     90      EA\n"
          ]
        }
      ]
    },
    {
      "cell_type": "code",
      "source": [
        "# Assuming we have a CSV file named 'data.csv' with columns: Name, Age, City\n",
        "df = pd.read_csv('data.csv')\n",
        "print(df.head())  # Display first few rows"
      ],
      "metadata": {
        "id": "-B4zNF0W0GfC"
      },
      "execution_count": null,
      "outputs": []
    },
    {
      "cell_type": "code",
      "source": [
        "myData = pd.read_csv('NewData.csv')\n",
        "print(myData.head())"
      ],
      "metadata": {
        "colab": {
          "base_uri": "https://localhost:8080/"
        },
        "id": "-ZK5hYc2yZcV",
        "outputId": "987317ba-9fb6-42ae-ec35-8b2605d5a7e8"
      },
      "execution_count": null,
      "outputs": [
        {
          "output_type": "stream",
          "name": "stdout",
          "text": [
            "    Name  Age      City\n",
            "0  Rahul   32   Mathura\n",
            "1    Raj   30  New York\n",
            "2    Ram   35   Lucknow\n"
          ]
        }
      ]
    },
    {
      "cell_type": "code",
      "source": [
        "import pandas as pd\n",
        "myDetails = pd.read_csv('sample.csv')\n",
        "print(myDetails.head())"
      ],
      "metadata": {
        "colab": {
          "base_uri": "https://localhost:8080/"
        },
        "id": "OrFKV8vIQh8c",
        "outputId": "131aa35f-7605-47f7-d88f-8165262c3709"
      },
      "execution_count": null,
      "outputs": [
        {
          "output_type": "stream",
          "name": "stdout",
          "text": [
            "      Name\\tAge\\tCity\n",
            "0  Rahul\\t32\\tMathura\n",
            "1   Raj\\t30\\tNew York\n",
            "2    Ram\\t35\\tLucknow\n"
          ]
        }
      ]
    },
    {
      "cell_type": "code",
      "source": [
        "import pandas as pd\n",
        "myDetails = pd.read_csv('NewData.csv')\n",
        "print(myDetails.head())"
      ],
      "metadata": {
        "colab": {
          "base_uri": "https://localhost:8080/"
        },
        "id": "0Ij5DguSSF6w",
        "outputId": "1e13c60e-27de-47f4-b748-06d8621923d9"
      },
      "execution_count": null,
      "outputs": [
        {
          "output_type": "stream",
          "name": "stdout",
          "text": [
            "    Name  Age      City\n",
            "0  Rahul   32   Mathura\n",
            "1    Raj   30  New York\n",
            "2    Ram   35   Lucknow\n"
          ]
        }
      ]
    },
    {
      "cell_type": "code",
      "source": [
        "import pandas as pd\n",
        "PersonData = pd.read_csv('NewData.csv')\n",
        "print(PersonData.head())"
      ],
      "metadata": {
        "colab": {
          "base_uri": "https://localhost:8080/"
        },
        "id": "PiZnwrNB1LV8",
        "outputId": "e3dc894a-897f-4b8f-a5c8-2cf20e5b7f2b"
      },
      "execution_count": null,
      "outputs": [
        {
          "output_type": "stream",
          "name": "stdout",
          "text": [
            "    Name  Age      City\n",
            "0  Rahul   32   Mathura\n",
            "1    Raj   30  New York\n",
            "2    Ram   35   Lucknow\n",
            "3  Name1   40     City1\n",
            "4  Name2   43     City2\n"
          ]
        }
      ]
    },
    {
      "cell_type": "code",
      "source": [
        "import pandas as GLA\n",
        "StudData = GLA.read_csv('NewData.csv')\n",
        "print(StudData.head())"
      ],
      "metadata": {
        "colab": {
          "base_uri": "https://localhost:8080/"
        },
        "id": "eP2HzknyXQOe",
        "outputId": "6f03c461-3005-4e7e-8b41-1e93e1c7d800"
      },
      "execution_count": null,
      "outputs": [
        {
          "output_type": "stream",
          "name": "stdout",
          "text": [
            "    Name  Age      City\n",
            "0  Rahul   32   Mathura\n",
            "1    Raj   30  New York\n",
            "2    Ram   35   Lucknow\n"
          ]
        }
      ]
    },
    {
      "cell_type": "code",
      "source": [
        "import pandas as pd\n",
        "\n",
        "# Step 1: Read the existing CSV file\n",
        "existing_data = pd.read_csv('NewData.csv')\n",
        "\n",
        "# Step 2: Create a new DataFrame with the additional data\n",
        "# Replace 'Name1', 'Age1', 'City1' with the actual data you want to add\n",
        "new_data = pd.DataFrame({\n",
        "    'Name': ['Sachin', 'Virat'],  # Add more names as needed\n",
        "    'Age': [40, 43],         # Add corresponding ages\n",
        "    'City': ['Mumbai', 'Delhi']   # Add corresponding cities\n",
        "})\n",
        "\n",
        "# Step 3: Append the new DataFrame to the existing one using concat\n",
        "updated_data = pd.concat([existing_data, new_data], ignore_index=True)\n",
        "#ignore_index=True, the index values of the appended rows will be ignored, and\n",
        "#pandas will automatically assign a new index to the resulting DataFrame,\n",
        "#starting from 0 and continuing sequentially.\n",
        "\n",
        "# Step 4: Save the updated DataFrame back to the CSV file\n",
        "updated_data.to_csv('NewData.csv', index=False)\n",
        "#the index parameter specifies whether the index of the DataFrame should be written to the CSV file.\n",
        "#If index=False, the index will not be included in the CSV file,\n",
        "#resulting in a file that contains only the data columns."
      ],
      "metadata": {
        "id": "bNxwxJB7fdAB"
      },
      "execution_count": null,
      "outputs": []
    },
    {
      "cell_type": "code",
      "source": [
        "import pandas as pd\n",
        "\n",
        "# Read the existing CSV file\n",
        "data = pd.read_csv('NewData.csv')\n",
        "\n",
        "# Calculate the sum of the 'Age' column\n",
        "age_sum = data['Age'].sum()\n",
        "print(f\"Total Sum of Ages: {age_sum}\")"
      ],
      "metadata": {
        "colab": {
          "base_uri": "https://localhost:8080/"
        },
        "id": "xTj-nn2ShsUx",
        "outputId": "1fb619ce-d1a6-4a94-bd5b-4d1a6fc504ba"
      },
      "execution_count": null,
      "outputs": [
        {
          "output_type": "stream",
          "name": "stdout",
          "text": [
            "Total Sum of Ages: 180\n"
          ]
        }
      ]
    },
    {
      "cell_type": "code",
      "source": [
        "import pandas as pd\n",
        "\n",
        "# Read the existing CSV file\n",
        "data = pd.read_csv('NewData.csv')\n",
        "\n",
        "# Calculate the mean of the 'Age' column\n",
        "age_mean = data['Age'].mean()\n",
        "print(f\"Mean Age: {age_mean}\")"
      ],
      "metadata": {
        "colab": {
          "base_uri": "https://localhost:8080/"
        },
        "id": "VuENrejSjIHL",
        "outputId": "94d83a4e-f7e9-4d20-a21b-0982aad7b6bf"
      },
      "execution_count": null,
      "outputs": [
        {
          "output_type": "stream",
          "name": "stdout",
          "text": [
            "Mean Age: 36.0\n"
          ]
        }
      ]
    },
    {
      "cell_type": "code",
      "source": [
        "import pandas as pd\n",
        "\n",
        "# Read the existing CSV file\n",
        "data = pd.read_csv('NewData.csv')\n",
        "\n",
        "# Count the number of non-NA/null entries in the 'Age' column\n",
        "age_count = data['Age'].count()\n",
        "print(f\"Count of Ages: {age_count}\")"
      ],
      "metadata": {
        "colab": {
          "base_uri": "https://localhost:8080/"
        },
        "id": "22MiLs34jQiF",
        "outputId": "c416065a-9b4f-4192-a503-1a7912430a91"
      },
      "execution_count": null,
      "outputs": [
        {
          "output_type": "stream",
          "name": "stdout",
          "text": [
            "Count of Ages: 5\n"
          ]
        }
      ]
    },
    {
      "cell_type": "markdown",
      "source": [
        "#Additional Examples\n",
        "Some additional examples of common statistical and data manipulation operations that you can perform:\n",
        "\n",
        "1. **Calculating the Median of a Column**:\n",
        "   ```python\n",
        "   import pandas as pd\n",
        "\n",
        "   # Read the existing CSV file\n",
        "   data = pd.read_csv('NewData.csv')\n",
        "\n",
        "   # Calculate the median of the 'Age' column\n",
        "   age_median = data['Age'].median()\n",
        "   print(f\"Median Age: {age_median}\")\n",
        "   ```\n",
        "\n",
        "2. **Calculating the Standard Deviation of a Column**:\n",
        "   ```python\n",
        "   import pandas as pd\n",
        "\n",
        "   # Read the existing CSV file\n",
        "   data = pd.read_csv('NewData.csv')\n",
        "\n",
        "   # Calculate the standard deviation of the 'Age' column\n",
        "   age_std = data['Age'].std()\n",
        "   print(f\"Standard Deviation of Age: {age_std}\")\n",
        "   ```\n",
        "\n",
        "3. **Calculating the Minimum and Maximum of a Column**:\n",
        "   ```python\n",
        "   import pandas as pd\n",
        "\n",
        "   # Read the existing CSV file\n",
        "   data = pd.read_csv('NewData.csv')\n",
        "\n",
        "   # Calculate the minimum age\n",
        "   age_min = data['Age'].min()\n",
        "   print(f\"Minimum Age: {age_min}\")\n",
        "\n",
        "   # Calculate the maximum age\n",
        "   age_max = data['Age'].max()\n",
        "   print(f\"Maximum Age: {age_max}\")\n",
        "   ```\n",
        "\n",
        "4. **Calculating the Variance of a Column**:\n",
        "   ```python\n",
        "   import pandas as pd\n",
        "\n",
        "   # Read the existing CSV file\n",
        "   data = pd.read_csv('NewData.csv')\n",
        "\n",
        "   # Calculate the variance of the 'Age' column\n",
        "   age_variance = data['Age'].var()\n",
        "   print(f\"Variance of Age: {age_variance}\")\n",
        "   ```\n",
        "\n",
        "   The variance of a column in a dataset is a statistical measure that quantifies the spread or dispersion of the values in that column. It is calculated as the average squared deviation of each number from the mean of the column. In other words, it measures how far each number in the set is from the mean and thus from every other number in the set.\n",
        "\n",
        "5. **Calculating Quantiles of a Column**:\n",
        "   ```python\n",
        "   import pandas as pd\n",
        "\n",
        "   # Read the existing CSV file\n",
        "   data = pd.read_csv('NewData.csv')\n",
        "\n",
        "   # Calculate the 25th and 75th percentiles of the 'Age' column\n",
        "   age_25th_quantile = data['Age'].quantile(0.25)\n",
        "   age_75th_quantile = data['Age'].quantile(0.75)\n",
        "   print(f\"25th Percentile of Age: {age_25th_quantile}\")\n",
        "   print(f\"75th Percentile of Age: {age_75th_quantile}\")\n",
        "   ```\n",
        "\n",
        "6. **Grouping Data and Calculating Group-wise Statistics**:\n",
        "   ```python\n",
        "   import pandas as pd\n",
        "\n",
        "   # Read the existing CSV file\n",
        "   data = pd.read_csv('NewData.csv')\n",
        "\n",
        "   # Group by 'Gender' and calculate mean age within each group\n",
        "   mean_age_by_gender = data.groupby('Gender')['Age'].mean()\n",
        "   print(f\"Mean Age by Gender:\\n{mean_age_by_gender}\")\n",
        "   ```\n",
        "\n",
        "7. **Finding Unique Values in a Column**:\n",
        "   ```python\n",
        "   import pandas as pd\n",
        "\n",
        "   # Read the existing CSV file\n",
        "   data = pd.read_csv('NewData.csv')\n",
        "\n",
        "   # Find unique values in the 'Gender' column\n",
        "   unique_genders = data['Gender'].unique()\n",
        "   print(f\"Unique Genders: {unique_genders}\")\n",
        "   ```\n",
        "\n",
        "8. **Filtering Data Based on a Condition**:\n",
        "   ```python\n",
        "   import pandas as pd\n",
        "\n",
        "   # Read the existing CSV file\n",
        "   data = pd.read_csv('NewData.csv')\n",
        "\n",
        "   # Filter rows where 'Age' is greater than 30\n",
        "   over_30 = data[data['Age'] > 30]\n",
        "   print(f\"Data for Ages Over 30:\\n{over_30.head()}\")\n",
        "   ```"
      ],
      "metadata": {
        "id": "7kq-Bc6nNuor"
      }
    }
  ]
}