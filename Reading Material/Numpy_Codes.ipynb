{
  "cells": [
    {
      "cell_type": "markdown",
      "metadata": {
        "id": "I6E7VdTvh3DH"
      },
      "source": [
        "NumPy stand for Numerical Python. NumPy is a fundamental package for scientific computing with Python. It provides support for multidimensional arrays (i.e., arrays with more than one dimension) and a variety of mathematical functions to operate on these arrays efficiently. NumPy is at the core of many Python libraries used for data analysis, machine learning, and scientific computing due to its performance, ease of use, and wide range of capabilities.\n",
        "\n",
        "Here are some key reasons why NumPy is widely used and why you might need to use it:\n",
        "\n",
        "1. **Efficient Data Storage**: NumPy arrays are memory-efficient containers that allow you to store and manipulate large datasets more efficiently than Python lists. NumPy's arrays are homogeneous, meaning they contain elements of the same data type, which allows for more efficient memory allocation.\n",
        "\n",
        "2. **Fast Mathematical Operations**: NumPy provides a wide range of fast mathematical functions that operate on entire arrays without the need for explicit looping. These functions are implemented in compiled C and Fortran code, making them much faster than equivalent operations performed using Python loops.\n",
        "\n",
        "3. **Multidimensional Arrays**: NumPy supports multidimensional arrays, allowing you to represent complex data structures such as matrices, tensors, and higher-dimensional arrays. This makes NumPy particularly well-suited for tasks involving numerical data, such as image processing, signal processing, and scientific simulations.\n",
        "\n",
        "4. **Broadcasting**: NumPy's broadcasting rules allow for efficient computation on arrays of different shapes and sizes. Broadcasting automatically handles element-wise operations between arrays of different shapes, which simplifies code and improves performance.\n",
        "\n",
        "5. **Integration with Other Libraries**: NumPy integrates seamlessly with other scientific computing libraries in Python, such as SciPy (for scientific computing), Matplotlib (for plotting and visualization), pandas (for data manipulation and analysis), and scikit-learn (for machine learning). These libraries often rely on NumPy arrays as their underlying data structure, making NumPy an essential building block for many scientific and data-related tasks.\n",
        "\n",
        "6. **Open Source and Community Support**: NumPy is open source and has a large and active community of users and developers. This means that there is extensive documentation, tutorials, and community support available for learning and using NumPy effectively.\n",
        "\n",
        "Overall, NumPy is an essential library for anyone working with numerical data in Python. Its powerful array manipulation capabilities, performance optimizations, and seamless integration with other libraries make it a valuable tool for a wide range of scientific and computational tasks."
      ]
    },
    {
      "cell_type": "code",
      "execution_count": null,
      "metadata": {
        "colab": {
          "base_uri": "https://localhost:8080/"
        },
        "id": "TXbgVhykgvLc",
        "outputId": "2a89914c-216b-44eb-8e2b-9e1272895f17"
      },
      "outputs": [
        {
          "name": "stdout",
          "output_type": "stream",
          "text": [
            "[1 2 3]\n"
          ]
        }
      ],
      "source": [
        "import numpy as np\n",
        "a = np.array([1,2,3])\n",
        "print(a)"
      ]
    },
    {
      "cell_type": "code",
      "execution_count": null,
      "metadata": {
        "colab": {
          "base_uri": "https://localhost:8080/"
        },
        "id": "jbdRVItrbbDR",
        "outputId": "1c627b80-72ee-45a1-c23f-5550b23e2385"
      },
      "outputs": [
        {
          "name": "stdout",
          "output_type": "stream",
          "text": [
            "['a' 'b' 'c']\n"
          ]
        }
      ],
      "source": [
        "import numpy as abc\n",
        "mydata = abc.array(['a', 'b', 'c'])\n",
        "print(mydata)"
      ]
    },
    {
      "cell_type": "code",
      "execution_count": null,
      "metadata": {
        "colab": {
          "base_uri": "https://localhost:8080/"
        },
        "id": "706SdrKC3Y9r",
        "outputId": "711f8792-9b1d-4971-a615-b18cc348dcfc"
      },
      "outputs": [
        {
          "name": "stdout",
          "output_type": "stream",
          "text": [
            "['S1' '34' '3.14']\n"
          ]
        }
      ],
      "source": [
        "import numpy as abc\n",
        "ce_section_data = abc.array(['S1', 34, 3.14])\n",
        "print(ce_section_data)"
      ]
    },
    {
      "cell_type": "markdown",
      "metadata": {
        "id": "PRuOH8GHhJgI"
      },
      "source": [
        "Let's break down the code:\n",
        "\n",
        "```python\n",
        "import numpy as np\n",
        "```\n",
        "\n",
        "- `import numpy as np`: This line imports the NumPy library into your Python script. NumPy is a powerful library for numerical computing in Python, providing support for large, multi-dimensional arrays and matrices, along with a collection of mathematical functions to operate on these arrays efficiently. The `as np` part of the statement aliases `numpy` to `np`, which is a common convention to make code shorter and more readable.\n",
        "\n",
        "```python\n",
        "a = np.array([1, 2, 3])\n",
        "```\n",
        "\n",
        "- `a = np.array([1, 2, 3])`: This line creates a NumPy array. The `np.array()` function is used to create a new NumPy array from a Python list `[1, 2, 3]`. In this case, the list contains three integer elements: 1, 2, and 3. The resulting NumPy array `a` will be a one-dimensional array (also called a vector) containing these elements.\n",
        "\n",
        "```python\n",
        "print(a)\n",
        "```\n",
        "\n",
        "- `print(a)`: This line prints the NumPy array `a` to the console. The `print()` function is used to display the contents of the array. In this case, it will print `[1 2 3]`, which represents the contents of the array `a` with each element separated by a space.\n",
        "\n",
        "So, when you run this code, the output will be:\n",
        "\n",
        "```\n",
        "[1 2 3]\n",
        "```\n",
        "\n",
        "This output represents the NumPy array `a` with elements 1, 2, and 3."
      ]
    },
    {
      "cell_type": "code",
      "execution_count": null,
      "metadata": {
        "colab": {
          "base_uri": "https://localhost:8080/"
        },
        "id": "9nzEJC7Gg9bq",
        "outputId": "c487d021-5813-4b6c-fb18-3712652404db"
      },
      "outputs": [
        {
          "name": "stdout",
          "output_type": "stream",
          "text": [
            "[[1 2]\n",
            " [3 4]]\n"
          ]
        }
      ],
      "source": [
        "import numpy as np\n",
        "a = np.array([[1, 2], [3, 4]])\n",
        "print(a)"
      ]
    },
    {
      "cell_type": "markdown",
      "metadata": {
        "id": "NSBYepTiiS0v"
      },
      "source": [
        "Let's go through the code step by step:\n",
        "\n",
        "```python\n",
        "import numpy as np\n",
        "```\n",
        "\n",
        "- `import numpy as np`: This line imports the NumPy library into your Python script. As explained earlier, NumPy is a fundamental package for numerical computing in Python, providing support for large, multi-dimensional arrays and matrices, along with mathematical functions to operate on these arrays efficiently. The `as np` part of the statement aliases `numpy` to `np`, which is a common convention to make code shorter and more readable.\n",
        "\n",
        "```python\n",
        "a = np.array([[1, 2], [3, 4]])\n",
        "```\n",
        "\n",
        "- `a = np.array([[1, 2], [3, 4]])`: This line creates a NumPy array. The `np.array()` function is used to create a new NumPy array from a nested Python list `[[1, 2], [3, 4]]`. This list contains two inner lists, each representing a row of the array. In this case, the resulting NumPy array `a` will be a 2x2 array, also known as a matrix, with the elements `[1, 2]` in the first row and `[3, 4]` in the second row.\n",
        "\n",
        "```python\n",
        "print(a)\n",
        "```\n",
        "\n",
        "- `print(a)`: This line prints the NumPy array `a` to the console. The `print()` function is used to display the contents of the array. In this case, it will print the 2x2 array `a`:\n",
        "\n",
        "```\n",
        "[[1 2]\n",
        " [3 4]]\n",
        "```\n",
        "\n",
        "This output represents the NumPy array `a` with two rows and two columns. The elements of the array are printed row-wise, with each row enclosed within square brackets and separated by a space. Within each row, the elements are separated by a space as well."
      ]
    },
    {
      "cell_type": "code",
      "execution_count": null,
      "metadata": {
        "colab": {
          "base_uri": "https://localhost:8080/"
        },
        "id": "KN9_B49qB_pq",
        "outputId": "9472d76f-9d3f-4a41-a558-a0b640bc6136"
      },
      "outputs": [
        {
          "name": "stdout",
          "output_type": "stream",
          "text": [
            "[[1 2 3 4 5]]\n"
          ]
        }
      ],
      "source": [
        "import numpy as np\n",
        "a = np.array([1, 2, 3,4,5], ndmin = 2)\n",
        "print(a)"
      ]
    },
    {
      "cell_type": "code",
      "execution_count": null,
      "metadata": {
        "colab": {
          "base_uri": "https://localhost:8080/"
        },
        "id": "sZy4Dr5RCDiL",
        "outputId": "f18e71c8-9528-4593-f7aa-d5de0c856a1a"
      },
      "outputs": [
        {
          "name": "stdout",
          "output_type": "stream",
          "text": [
            "[[[[[['a' 'b' 'c' 'd' 'e' 'f']]]]]]\n",
            "number of dimensions : 6\n"
          ]
        }
      ],
      "source": [
        "import numpy as np\n",
        "a=np.array([['a','b','c','d','e','f']], ndmin=6)\n",
        "print(a)\n",
        "print('number of dimensions :', a.ndim)"
      ]
    },
    {
      "cell_type": "markdown",
      "metadata": {
        "id": "C9Sh4fTLD1n1"
      },
      "source": [
        "In Python, **.shape** and **.reshape** are both properties of the numpy.array object. .shape returns a tuple of array dimensions and can be used to change the dimensions of an array. .reshape gives a new shape to an array without changing its data. It creates a new array and does not modify the original array"
      ]
    },
    {
      "cell_type": "code",
      "execution_count": null,
      "metadata": {
        "colab": {
          "base_uri": "https://localhost:8080/"
        },
        "id": "KX5t-de5D7Km",
        "outputId": "63b96351-dfb7-40a5-f2b2-d496a906383b"
      },
      "outputs": [
        {
          "name": "stdout",
          "output_type": "stream",
          "text": [
            "[[1 2]\n",
            " [3 4]\n",
            " [5 6]]\n"
          ]
        }
      ],
      "source": [
        "import numpy as np\n",
        "a = np.array([[1,2,3],[4,5,6]])\n",
        "a.shape = (3,2)\n",
        "print (a)"
      ]
    },
    {
      "cell_type": "code",
      "execution_count": null,
      "metadata": {
        "colab": {
          "base_uri": "https://localhost:8080/"
        },
        "id": "RnM4GJf8ECE7",
        "outputId": "168ba903-69a5-4493-b70a-1d6ac851ba14"
      },
      "outputs": [
        {
          "name": "stdout",
          "output_type": "stream",
          "text": [
            "[[1 2]\n",
            " [3 4]\n",
            " [5 6]]\n"
          ]
        }
      ],
      "source": [
        "import numpy as np\n",
        "a = np.array([[1,2,3],[4,5,6]])\n",
        "b = a.reshape(3,2)\n",
        "print (b)"
      ]
    },
    {
      "cell_type": "code",
      "execution_count": null,
      "metadata": {
        "colab": {
          "base_uri": "https://localhost:8080/"
        },
        "id": "ru-HYRTko6BW",
        "outputId": "cafda6b8-2ca3-462c-dded-d011855f194c"
      },
      "outputs": [
        {
          "name": "stdout",
          "output_type": "stream",
          "text": [
            "[5 7 9]\n"
          ]
        }
      ],
      "source": [
        "#Element-wise addition:\n",
        "import numpy as np\n",
        "a = np.array([1, 2, 3])\n",
        "b = np.array([4, 5, 6])\n",
        "result = a + b\n",
        "print(result)"
      ]
    },
    {
      "cell_type": "code",
      "execution_count": null,
      "metadata": {
        "colab": {
          "base_uri": "https://localhost:8080/"
        },
        "id": "CQ9P-HPKpFx2",
        "outputId": "a384920d-f47c-47c4-9342-977e86c5c61f"
      },
      "outputs": [
        {
          "name": "stdout",
          "output_type": "stream",
          "text": [
            "[[19 22]\n",
            " [43 50]]\n"
          ]
        }
      ],
      "source": [
        "#Matrix multiplication:\n",
        "import numpy as np\n",
        "a = np.array([[1, 2], [3, 4]])\n",
        "b = np.array([[5, 6], [7, 8]])\n",
        "result = np.dot(a, b)\n",
        "print(result)"
      ]
    },
    {
      "cell_type": "code",
      "execution_count": null,
      "metadata": {
        "colab": {
          "base_uri": "https://localhost:8080/"
        },
        "id": "MvSVDa8EpRRe",
        "outputId": "059bb15a-00d2-448a-d596-14daf76650c0"
      },
      "outputs": [
        {
          "name": "stdout",
          "output_type": "stream",
          "text": [
            "[3 4 5]\n"
          ]
        }
      ],
      "source": [
        "#Slicing a 1D array:\n",
        "import numpy as np\n",
        "a = np.array([1, 2, 3, 4, 5])\n",
        "print(a[2:])  # Prints elements from index 2 to the end"
      ]
    },
    {
      "cell_type": "code",
      "execution_count": null,
      "metadata": {
        "colab": {
          "base_uri": "https://localhost:8080/"
        },
        "id": "borjzZp7pc1r",
        "outputId": "98687104-0cac-4fff-a003-d5614b3861fd"
      },
      "outputs": [
        {
          "name": "stdout",
          "output_type": "stream",
          "text": [
            "[[2 3]\n",
            " [5 6]]\n"
          ]
        }
      ],
      "source": [
        "#Slicing a 2D array:\n",
        "import numpy as np\n",
        "b = np.array([[1, 2, 3], [4, 5, 6], [7, 8, 9]])\n",
        "print(b[:2, 1:])  # Prints sub-array from first two rows and second to last columns"
      ]
    },
    {
      "cell_type": "code",
      "execution_count": null,
      "metadata": {
        "colab": {
          "base_uri": "https://localhost:8080/"
        },
        "id": "fudOhBaHpg2t",
        "outputId": "528da0cc-a8dc-40e2-d116-d30e686355a4"
      },
      "outputs": [
        {
          "name": "stdout",
          "output_type": "stream",
          "text": [
            "[[1 2 3]\n",
            " [4 5 6]]\n"
          ]
        }
      ],
      "source": [
        "#Reshaping an array:\n",
        "import numpy as np\n",
        "a = np.array([[1, 2], [3, 4], [5, 6]])\n",
        "reshaped_a = a.reshape(2, 3)  # Reshape to a 2x3 array\n",
        "print(reshaped_a)"
      ]
    },
    {
      "cell_type": "code",
      "execution_count": null,
      "metadata": {
        "colab": {
          "base_uri": "https://localhost:8080/"
        },
        "id": "XpzhXY0ypnOC",
        "outputId": "97ab8c93-edca-49ed-ecce-95b5b4333df9"
      },
      "outputs": [
        {
          "name": "stdout",
          "output_type": "stream",
          "text": [
            "[[1 3]\n",
            " [2 4]]\n"
          ]
        }
      ],
      "source": [
        "#Transposing an array:\n",
        "import numpy as np\n",
        "a = np.array([[1, 2], [3, 4]])\n",
        "transposed_a = np.transpose(a)\n",
        "print(transposed_a)"
      ]
    },
    {
      "cell_type": "code",
      "execution_count": null,
      "metadata": {
        "colab": {
          "base_uri": "https://localhost:8080/"
        },
        "id": "XIdn1OVYqi_r",
        "outputId": "153d4f59-836a-45f1-cf27-5c7df9e2eadb"
      },
      "outputs": [
        {
          "name": "stdout",
          "output_type": "stream",
          "text": [
            "1\n",
            "5\n"
          ]
        }
      ],
      "source": [
        "#Finding minimum and maximum values\n",
        "import numpy as np\n",
        "a = np.array([1, 2, 3, 4, 5])\n",
        "print(np.min(a))  # Prints the minimum value\n",
        "print(np.max(a))  # Prints the maximum value"
      ]
    },
    {
      "cell_type": "code",
      "execution_count": null,
      "metadata": {
        "colab": {
          "base_uri": "https://localhost:8080/"
        },
        "id": "P4YjMC3_q9RD",
        "outputId": "ff0d4554-06d9-45d1-c9ec-3438d2039a34"
      },
      "outputs": [
        {
          "name": "stdout",
          "output_type": "stream",
          "text": [
            "3.0\n",
            "1.4142135623730951\n"
          ]
        }
      ],
      "source": [
        "#Computing mean and standard deviation\n",
        "import numpy as np\n",
        "a = np.array([1, 2, 3, 4, 5])\n",
        "print(np.mean(a))  # Prints the mean\n",
        "print(np.std(a))   # Prints the standard deviation"
      ]
    },
    {
      "cell_type": "code",
      "execution_count": null,
      "metadata": {
        "colab": {
          "base_uri": "https://localhost:8080/",
          "height": 38
        },
        "id": "EmhnHIlhtRKM",
        "outputId": "d2d25bfc-6fb8-4a33-b5ea-98a0ea7510e7"
      },
      "outputs": [
        {
          "data": {
            "text/html": [
              "\n",
              "     <input type=\"file\" id=\"files-51dd8589-69b3-47b6-ab60-2675127e37fd\" name=\"files[]\" multiple disabled\n",
              "        style=\"border:none\" />\n",
              "     <output id=\"result-51dd8589-69b3-47b6-ab60-2675127e37fd\">\n",
              "      Upload widget is only available when the cell has been executed in the\n",
              "      current browser session. Please rerun this cell to enable.\n",
              "      </output>\n",
              "      <script>// Copyright 2017 Google LLC\n",
              "//\n",
              "// Licensed under the Apache License, Version 2.0 (the \"License\");\n",
              "// you may not use this file except in compliance with the License.\n",
              "// You may obtain a copy of the License at\n",
              "//\n",
              "//      http://www.apache.org/licenses/LICENSE-2.0\n",
              "//\n",
              "// Unless required by applicable law or agreed to in writing, software\n",
              "// distributed under the License is distributed on an \"AS IS\" BASIS,\n",
              "// WITHOUT WARRANTIES OR CONDITIONS OF ANY KIND, either express or implied.\n",
              "// See the License for the specific language governing permissions and\n",
              "// limitations under the License.\n",
              "\n",
              "/**\n",
              " * @fileoverview Helpers for google.colab Python module.\n",
              " */\n",
              "(function(scope) {\n",
              "function span(text, styleAttributes = {}) {\n",
              "  const element = document.createElement('span');\n",
              "  element.textContent = text;\n",
              "  for (const key of Object.keys(styleAttributes)) {\n",
              "    element.style[key] = styleAttributes[key];\n",
              "  }\n",
              "  return element;\n",
              "}\n",
              "\n",
              "// Max number of bytes which will be uploaded at a time.\n",
              "const MAX_PAYLOAD_SIZE = 100 * 1024;\n",
              "\n",
              "function _uploadFiles(inputId, outputId) {\n",
              "  const steps = uploadFilesStep(inputId, outputId);\n",
              "  const outputElement = document.getElementById(outputId);\n",
              "  // Cache steps on the outputElement to make it available for the next call\n",
              "  // to uploadFilesContinue from Python.\n",
              "  outputElement.steps = steps;\n",
              "\n",
              "  return _uploadFilesContinue(outputId);\n",
              "}\n",
              "\n",
              "// This is roughly an async generator (not supported in the browser yet),\n",
              "// where there are multiple asynchronous steps and the Python side is going\n",
              "// to poll for completion of each step.\n",
              "// This uses a Promise to block the python side on completion of each step,\n",
              "// then passes the result of the previous step as the input to the next step.\n",
              "function _uploadFilesContinue(outputId) {\n",
              "  const outputElement = document.getElementById(outputId);\n",
              "  const steps = outputElement.steps;\n",
              "\n",
              "  const next = steps.next(outputElement.lastPromiseValue);\n",
              "  return Promise.resolve(next.value.promise).then((value) => {\n",
              "    // Cache the last promise value to make it available to the next\n",
              "    // step of the generator.\n",
              "    outputElement.lastPromiseValue = value;\n",
              "    return next.value.response;\n",
              "  });\n",
              "}\n",
              "\n",
              "/**\n",
              " * Generator function which is called between each async step of the upload\n",
              " * process.\n",
              " * @param {string} inputId Element ID of the input file picker element.\n",
              " * @param {string} outputId Element ID of the output display.\n",
              " * @return {!Iterable<!Object>} Iterable of next steps.\n",
              " */\n",
              "function* uploadFilesStep(inputId, outputId) {\n",
              "  const inputElement = document.getElementById(inputId);\n",
              "  inputElement.disabled = false;\n",
              "\n",
              "  const outputElement = document.getElementById(outputId);\n",
              "  outputElement.innerHTML = '';\n",
              "\n",
              "  const pickedPromise = new Promise((resolve) => {\n",
              "    inputElement.addEventListener('change', (e) => {\n",
              "      resolve(e.target.files);\n",
              "    });\n",
              "  });\n",
              "\n",
              "  const cancel = document.createElement('button');\n",
              "  inputElement.parentElement.appendChild(cancel);\n",
              "  cancel.textContent = 'Cancel upload';\n",
              "  const cancelPromise = new Promise((resolve) => {\n",
              "    cancel.onclick = () => {\n",
              "      resolve(null);\n",
              "    };\n",
              "  });\n",
              "\n",
              "  // Wait for the user to pick the files.\n",
              "  const files = yield {\n",
              "    promise: Promise.race([pickedPromise, cancelPromise]),\n",
              "    response: {\n",
              "      action: 'starting',\n",
              "    }\n",
              "  };\n",
              "\n",
              "  cancel.remove();\n",
              "\n",
              "  // Disable the input element since further picks are not allowed.\n",
              "  inputElement.disabled = true;\n",
              "\n",
              "  if (!files) {\n",
              "    return {\n",
              "      response: {\n",
              "        action: 'complete',\n",
              "      }\n",
              "    };\n",
              "  }\n",
              "\n",
              "  for (const file of files) {\n",
              "    const li = document.createElement('li');\n",
              "    li.append(span(file.name, {fontWeight: 'bold'}));\n",
              "    li.append(span(\n",
              "        `(${file.type || 'n/a'}) - ${file.size} bytes, ` +\n",
              "        `last modified: ${\n",
              "            file.lastModifiedDate ? file.lastModifiedDate.toLocaleDateString() :\n",
              "                                    'n/a'} - `));\n",
              "    const percent = span('0% done');\n",
              "    li.appendChild(percent);\n",
              "\n",
              "    outputElement.appendChild(li);\n",
              "\n",
              "    const fileDataPromise = new Promise((resolve) => {\n",
              "      const reader = new FileReader();\n",
              "      reader.onload = (e) => {\n",
              "        resolve(e.target.result);\n",
              "      };\n",
              "      reader.readAsArrayBuffer(file);\n",
              "    });\n",
              "    // Wait for the data to be ready.\n",
              "    let fileData = yield {\n",
              "      promise: fileDataPromise,\n",
              "      response: {\n",
              "        action: 'continue',\n",
              "      }\n",
              "    };\n",
              "\n",
              "    // Use a chunked sending to avoid message size limits. See b/62115660.\n",
              "    let position = 0;\n",
              "    do {\n",
              "      const length = Math.min(fileData.byteLength - position, MAX_PAYLOAD_SIZE);\n",
              "      const chunk = new Uint8Array(fileData, position, length);\n",
              "      position += length;\n",
              "\n",
              "      const base64 = btoa(String.fromCharCode.apply(null, chunk));\n",
              "      yield {\n",
              "        response: {\n",
              "          action: 'append',\n",
              "          file: file.name,\n",
              "          data: base64,\n",
              "        },\n",
              "      };\n",
              "\n",
              "      let percentDone = fileData.byteLength === 0 ?\n",
              "          100 :\n",
              "          Math.round((position / fileData.byteLength) * 100);\n",
              "      percent.textContent = `${percentDone}% done`;\n",
              "\n",
              "    } while (position < fileData.byteLength);\n",
              "  }\n",
              "\n",
              "  // All done.\n",
              "  yield {\n",
              "    response: {\n",
              "      action: 'complete',\n",
              "    }\n",
              "  };\n",
              "}\n",
              "\n",
              "scope.google = scope.google || {};\n",
              "scope.google.colab = scope.google.colab || {};\n",
              "scope.google.colab._files = {\n",
              "  _uploadFiles,\n",
              "  _uploadFilesContinue,\n",
              "};\n",
              "})(self);\n",
              "</script> "
            ],
            "text/plain": [
              "<IPython.core.display.HTML object>"
            ]
          },
          "metadata": {},
          "output_type": "display_data"
        }
      ],
      "source": [
        "from google.colab import files\n",
        "uploaded = files.upload()"
      ]
    },
    {
      "cell_type": "code",
      "execution_count": null,
      "metadata": {
        "colab": {
          "background_save": true,
          "base_uri": "https://localhost:8080/",
          "height": 55
        },
        "id": "BeZIqO7OvZXl",
        "outputId": "90e86129-8865-45e4-9375-34b44fe77f23"
      },
      "outputs": [
        {
          "data": {
            "text/html": [
              "\n",
              "     <input type=\"file\" id=\"files-47e34051-447f-4f8d-a5db-4d1b87d78978\" name=\"files[]\" multiple disabled\n",
              "        style=\"border:none\" />\n",
              "     <output id=\"result-47e34051-447f-4f8d-a5db-4d1b87d78978\">\n",
              "      Upload widget is only available when the cell has been executed in the\n",
              "      current browser session. Please rerun this cell to enable.\n",
              "      </output>\n",
              "      <script>// Copyright 2017 Google LLC\n",
              "//\n",
              "// Licensed under the Apache License, Version 2.0 (the \"License\");\n",
              "// you may not use this file except in compliance with the License.\n",
              "// You may obtain a copy of the License at\n",
              "//\n",
              "//      http://www.apache.org/licenses/LICENSE-2.0\n",
              "//\n",
              "// Unless required by applicable law or agreed to in writing, software\n",
              "// distributed under the License is distributed on an \"AS IS\" BASIS,\n",
              "// WITHOUT WARRANTIES OR CONDITIONS OF ANY KIND, either express or implied.\n",
              "// See the License for the specific language governing permissions and\n",
              "// limitations under the License.\n",
              "\n",
              "/**\n",
              " * @fileoverview Helpers for google.colab Python module.\n",
              " */\n",
              "(function(scope) {\n",
              "function span(text, styleAttributes = {}) {\n",
              "  const element = document.createElement('span');\n",
              "  element.textContent = text;\n",
              "  for (const key of Object.keys(styleAttributes)) {\n",
              "    element.style[key] = styleAttributes[key];\n",
              "  }\n",
              "  return element;\n",
              "}\n",
              "\n",
              "// Max number of bytes which will be uploaded at a time.\n",
              "const MAX_PAYLOAD_SIZE = 100 * 1024;\n",
              "\n",
              "function _uploadFiles(inputId, outputId) {\n",
              "  const steps = uploadFilesStep(inputId, outputId);\n",
              "  const outputElement = document.getElementById(outputId);\n",
              "  // Cache steps on the outputElement to make it available for the next call\n",
              "  // to uploadFilesContinue from Python.\n",
              "  outputElement.steps = steps;\n",
              "\n",
              "  return _uploadFilesContinue(outputId);\n",
              "}\n",
              "\n",
              "// This is roughly an async generator (not supported in the browser yet),\n",
              "// where there are multiple asynchronous steps and the Python side is going\n",
              "// to poll for completion of each step.\n",
              "// This uses a Promise to block the python side on completion of each step,\n",
              "// then passes the result of the previous step as the input to the next step.\n",
              "function _uploadFilesContinue(outputId) {\n",
              "  const outputElement = document.getElementById(outputId);\n",
              "  const steps = outputElement.steps;\n",
              "\n",
              "  const next = steps.next(outputElement.lastPromiseValue);\n",
              "  return Promise.resolve(next.value.promise).then((value) => {\n",
              "    // Cache the last promise value to make it available to the next\n",
              "    // step of the generator.\n",
              "    outputElement.lastPromiseValue = value;\n",
              "    return next.value.response;\n",
              "  });\n",
              "}\n",
              "\n",
              "/**\n",
              " * Generator function which is called between each async step of the upload\n",
              " * process.\n",
              " * @param {string} inputId Element ID of the input file picker element.\n",
              " * @param {string} outputId Element ID of the output display.\n",
              " * @return {!Iterable<!Object>} Iterable of next steps.\n",
              " */\n",
              "function* uploadFilesStep(inputId, outputId) {\n",
              "  const inputElement = document.getElementById(inputId);\n",
              "  inputElement.disabled = false;\n",
              "\n",
              "  const outputElement = document.getElementById(outputId);\n",
              "  outputElement.innerHTML = '';\n",
              "\n",
              "  const pickedPromise = new Promise((resolve) => {\n",
              "    inputElement.addEventListener('change', (e) => {\n",
              "      resolve(e.target.files);\n",
              "    });\n",
              "  });\n",
              "\n",
              "  const cancel = document.createElement('button');\n",
              "  inputElement.parentElement.appendChild(cancel);\n",
              "  cancel.textContent = 'Cancel upload';\n",
              "  const cancelPromise = new Promise((resolve) => {\n",
              "    cancel.onclick = () => {\n",
              "      resolve(null);\n",
              "    };\n",
              "  });\n",
              "\n",
              "  // Wait for the user to pick the files.\n",
              "  const files = yield {\n",
              "    promise: Promise.race([pickedPromise, cancelPromise]),\n",
              "    response: {\n",
              "      action: 'starting',\n",
              "    }\n",
              "  };\n",
              "\n",
              "  cancel.remove();\n",
              "\n",
              "  // Disable the input element since further picks are not allowed.\n",
              "  inputElement.disabled = true;\n",
              "\n",
              "  if (!files) {\n",
              "    return {\n",
              "      response: {\n",
              "        action: 'complete',\n",
              "      }\n",
              "    };\n",
              "  }\n",
              "\n",
              "  for (const file of files) {\n",
              "    const li = document.createElement('li');\n",
              "    li.append(span(file.name, {fontWeight: 'bold'}));\n",
              "    li.append(span(\n",
              "        `(${file.type || 'n/a'}) - ${file.size} bytes, ` +\n",
              "        `last modified: ${\n",
              "            file.lastModifiedDate ? file.lastModifiedDate.toLocaleDateString() :\n",
              "                                    'n/a'} - `));\n",
              "    const percent = span('0% done');\n",
              "    li.appendChild(percent);\n",
              "\n",
              "    outputElement.appendChild(li);\n",
              "\n",
              "    const fileDataPromise = new Promise((resolve) => {\n",
              "      const reader = new FileReader();\n",
              "      reader.onload = (e) => {\n",
              "        resolve(e.target.result);\n",
              "      };\n",
              "      reader.readAsArrayBuffer(file);\n",
              "    });\n",
              "    // Wait for the data to be ready.\n",
              "    let fileData = yield {\n",
              "      promise: fileDataPromise,\n",
              "      response: {\n",
              "        action: 'continue',\n",
              "      }\n",
              "    };\n",
              "\n",
              "    // Use a chunked sending to avoid message size limits. See b/62115660.\n",
              "    let position = 0;\n",
              "    do {\n",
              "      const length = Math.min(fileData.byteLength - position, MAX_PAYLOAD_SIZE);\n",
              "      const chunk = new Uint8Array(fileData, position, length);\n",
              "      position += length;\n",
              "\n",
              "      const base64 = btoa(String.fromCharCode.apply(null, chunk));\n",
              "      yield {\n",
              "        response: {\n",
              "          action: 'append',\n",
              "          file: file.name,\n",
              "          data: base64,\n",
              "        },\n",
              "      };\n",
              "\n",
              "      let percentDone = fileData.byteLength === 0 ?\n",
              "          100 :\n",
              "          Math.round((position / fileData.byteLength) * 100);\n",
              "      percent.textContent = `${percentDone}% done`;\n",
              "\n",
              "    } while (position < fileData.byteLength);\n",
              "  }\n",
              "\n",
              "  // All done.\n",
              "  yield {\n",
              "    response: {\n",
              "      action: 'complete',\n",
              "    }\n",
              "  };\n",
              "}\n",
              "\n",
              "scope.google = scope.google || {};\n",
              "scope.google.colab = scope.google.colab || {};\n",
              "scope.google.colab._files = {\n",
              "  _uploadFiles,\n",
              "  _uploadFilesContinue,\n",
              "};\n",
              "})(self);\n",
              "</script> "
            ],
            "text/plain": [
              "<IPython.core.display.HTML object>"
            ]
          },
          "metadata": {},
          "output_type": "display_data"
        }
      ],
      "source": [
        "from google.colab import files\n",
        "uploaded = files.upload()"
      ]
    },
    {
      "cell_type": "code",
      "execution_count": null,
      "metadata": {
        "colab": {
          "base_uri": "https://localhost:8080/"
        },
        "id": "jubxwfaOxhOV",
        "outputId": "17551a16-42df-4d69-a0d7-3035211acc99"
      },
      "outputs": [
        {
          "name": "stdout",
          "output_type": "stream",
          "text": [
            "[[-1.1431e+02  3.4190e+01  1.5000e+01  5.6120e+03  1.2830e+03  1.0150e+03\n",
            "   4.7200e+02  1.4936e+00  6.6900e+04]\n",
            " [-1.1447e+02  3.4400e+01  1.9000e+01  7.6500e+03  1.9010e+03  1.1290e+03\n",
            "   4.6300e+02  1.8200e+00  8.0100e+04]\n",
            " [-1.1456e+02  3.3690e+01  1.7000e+01  7.2000e+02  1.7400e+02  3.3300e+02\n",
            "   1.1700e+02  1.6509e+00  8.5700e+04]\n",
            " [-1.1457e+02  3.3640e+01  1.4000e+01  1.5010e+03  3.3700e+02  5.1500e+02\n",
            "   2.2600e+02  3.1917e+00  7.3400e+04]\n",
            " [-1.1457e+02  3.3570e+01  2.0000e+01  1.4540e+03  3.2600e+02  6.2400e+02\n",
            "   2.6200e+02  1.9250e+00  6.5500e+04]]\n"
          ]
        }
      ],
      "source": [
        "import numpy as np\n",
        "\n",
        "# Load CSV file into a NumPy array\n",
        "data = np.genfromtxt('/content/sample_data/california_housing_train.csv', delimiter=',', skip_header=1)\n",
        "\n",
        "# Print the first few rows of the data\n",
        "print(data[:5])"
      ]
    },
    {
      "cell_type": "code",
      "execution_count": null,
      "metadata": {
        "colab": {
          "base_uri": "https://localhost:8080/"
        },
        "id": "K1wH2Sm70zdn",
        "outputId": "3169f859-d8a9-4439-9902-38ac586e2e50"
      },
      "outputs": [
        {
          "name": "stdout",
          "output_type": "stream",
          "text": [
            "Mean Median House Value: 207300.91235294117\n"
          ]
        }
      ],
      "source": [
        "import numpy as np\n",
        "\n",
        "# Load CSV file into a NumPy array\n",
        "data = np.genfromtxt('/content/sample_data/california_housing_train.csv', delimiter=',', skip_header=1)\n",
        "\n",
        "# Extracting a column (e.g., median_house_value) and calculating its mean\n",
        "median_house_value = data[:, -1]  # Last column\n",
        "mean_median_house_value = np.mean(median_house_value)\n",
        "print(\"Mean Median House Value:\", mean_median_house_value)"
      ]
    },
    {
      "cell_type": "code",
      "execution_count": null,
      "metadata": {
        "id": "CHMXmXNj3tra"
      },
      "outputs": [],
      "source": [
        "import numpy as np\n",
        "\n",
        "# Create a sample NumPy array\n",
        "data = np.array([[1, 2, 3], [4, 5, 6], [7, 8, 9]])\n",
        "\n",
        "# Save the array to a CSV file\n",
        "np.savetxt('/content/sample_data/sample_output.csv', data, delimiter=',', fmt='%d')"
      ]
    },
    {
      "cell_type": "markdown",
      "source": [
        "The provided Python code snippet demonstrates how to create a NumPy array, and then save it to a CSV file using the NumPy library. Here's a detailed explanation of each part of the code:\n",
        "\n",
        "### Importing the NumPy Library\n",
        "\n",
        "```python\n",
        "import numpy as np\n",
        "```\n",
        "- This line imports the NumPy library and assigns it the alias `np`. NumPy is a fundamental package for scientific computing in Python, offering support for large, multi-dimensional arrays and matrices, along with a collection of mathematical functions to operate on these arrays.\n",
        "\n",
        "### Creating a NumPy Array\n",
        "\n",
        "```python\n",
        "data = np.array([[1, 2, 3], [4, 5, 6], [7, 8, 9]])\n",
        "```\n",
        "- Here, a 2-dimensional NumPy array named `data` is created using the `np.array` function. The array is initialized with three nested lists, each containing three elements. This results in a 3x3 matrix where the first row is `[1]`, the second row is ``, and the third row is ``.\n",
        "\n",
        "### Saving the Array to a CSV File\n",
        "\n",
        "```python\n",
        "np.savetxt('/content/sample_data/sample_output.csv', data, delimiter=',', fmt='%d')\n",
        "```\n",
        "- This line uses the `np.savetxt` function to save the `data` array to a CSV file. The function's parameters are as follows:\n",
        "  - The first argument specifies the file path where the array will be saved. In this case, the file will be saved as `sample_output.csv` in the `/content/sample_data/` directory.\n",
        "  - The second argument is the array to be saved, which is `data` in this case.\n",
        "  - The `delimiter=','` parameter specifies that the values in the output file should be separated by commas, which is standard for CSV (Comma-Separated Values) files.\n",
        "  - The `fmt='%d'` parameter specifies the format of the numbers to be saved. `%d` indicates that the numbers should be formatted as integers. This is important because it affects how the data is represented in the CSV file; without specifying the format, the numbers might be saved in a different format (e.g., with decimal points)."
      ],
      "metadata": {
        "id": "nOKW3otm5MsI"
      }
    },
    {
      "cell_type": "code",
      "execution_count": null,
      "metadata": {
        "colab": {
          "base_uri": "https://localhost:8080/"
        },
        "id": "YPCJ8vdN4Avd",
        "outputId": "92c8f078-d85a-43b0-e6fa-a499d7e26ac7"
      },
      "outputs": [
        {
          "name": "stdout",
          "output_type": "stream",
          "text": [
            "Average Median Income: 3.8835781000000007\n",
            "Median Median Income: 3.5446\n"
          ]
        }
      ],
      "source": [
        "import numpy as np\n",
        "\n",
        "# Load CSV file into a NumPy array\n",
        "data = np.genfromtxt('/content/sample_data/california_housing_train.csv', delimiter=',', skip_header=1)\n",
        "\n",
        "# Calculating statistics (e.g., mean, median) of certain columns\n",
        "median_income = data[:, 7]  # Median income column\n",
        "avg_median_income = np.mean(median_income)\n",
        "median_median_income = np.median(median_income)\n",
        "print(\"Average Median Income:\", avg_median_income)\n",
        "print(\"Median Median Income:\", median_median_income)"
      ]
    },
    {
      "cell_type": "markdown",
      "source": [
        "`data[:, 7]` is a way of indexing or slicing a NumPy array to select a specific column of data. Here's a breakdown of what it means:\n",
        "\n",
        "- `data` is a NumPy array that contains the data loaded from a CSV file. This array is likely to be two-dimensional, where rows represent individual data entries (e.g., different houses) and columns represent different features or attributes of those entries (e.g., median income, housing median age, etc.).\n",
        "\n",
        "- The `:` (colon) symbol is used in NumPy indexing to specify that we want to include all elements from the start to the end along the dimension it is placed. When used in the row position (before the comma), it means \"select all rows.\"\n",
        "\n",
        "- `7` specifies the index of the column you want to select. In Python and NumPy, indexing starts at 0, so an index of 7 refers to the 8th column in the array.\n",
        "\n",
        "Putting it all together, `data[:, 7]` means \"select all rows from the 8th column of the `data` array.\" This operation extracts the entire column as a one-dimensional NumPy array. In the context of your code, this column represents the \"Median income\" data for each entry in the dataset. The code then calculates and prints the average (mean) and the median of these median income values."
      ],
      "metadata": {
        "id": "PpKX_WXll4gE"
      }
    },
    {
      "cell_type": "code",
      "source": [
        "import numpy as np\n",
        "\n",
        "# Load CSV file into a NumPy array\n",
        "data = np.genfromtxt('/content/sample_data/california_housing_train.csv', delimiter=',', skip_header=1)\n",
        "\n",
        "# Calculating statistics (e.g., mean, median) of certain columns\n",
        "median_income = data[:5, 7]  # Median income column\n",
        "avg_median_income = np.mean(median_income)\n",
        "median_median_income = np.median(median_income)\n",
        "print(\"Average Median Income:\", avg_median_income)\n",
        "print(\"Median Median Income:\", median_median_income)"
      ],
      "metadata": {
        "colab": {
          "base_uri": "https://localhost:8080/"
        },
        "id": "7kdnuzvVmOCo",
        "outputId": "7d152b8e-238a-4708-88ec-ba0e3cc2da53"
      },
      "execution_count": null,
      "outputs": [
        {
          "output_type": "stream",
          "name": "stdout",
          "text": [
            "Average Median Income: 2.0162400000000003\n",
            "Median Median Income: 1.82\n"
          ]
        }
      ]
    },
    {
      "cell_type": "markdown",
      "source": [
        "- `data` is the NumPy array containing the loaded CSV data.\n",
        "- `[:5, 7]` is the slicing operation where:\n",
        "  - `:5` indicates that you want to select rows from the start up to, but not including, the index 5 (which corresponds to the first 5 rows since indexing starts at 0).\n",
        "  - `7` is the index of the column you want to select. Since indexing starts at 0, `7` corresponds to the 8th column.\n",
        "\n",
        "This operation will give you a one-dimensional NumPy array containing the values from the first 5 rows of the 8th column."
      ],
      "metadata": {
        "id": "EfAALB3WnL4b"
      }
    },
    {
      "cell_type": "code",
      "source": [
        "import numpy as np\n",
        "\n",
        "# Load CSV file into a NumPy array\n",
        "data = np.genfromtxt('/content/sample_data/california_housing_train.csv', delimiter=',', skip_header=1)\n",
        "\n",
        "# Extract the first 5 rows of the second-to-last column\n",
        "second_to_last_column_first_five_rows = data[:5, -2]\n",
        "\n",
        "# Calculate the mean of these values\n",
        "mean_value = np.mean(second_to_last_column_first_five_rows)\n",
        "\n",
        "print(\"Mean of the first 5 rows of the 2nd last column:\", mean_value)"
      ],
      "metadata": {
        "colab": {
          "base_uri": "https://localhost:8080/"
        },
        "id": "9pbbSjlOpKAA",
        "outputId": "9da83ed6-427b-4968-ed20-ddda827dbc91"
      },
      "execution_count": null,
      "outputs": [
        {
          "output_type": "stream",
          "name": "stdout",
          "text": [
            "Mean of the first 5 rows of the 2nd last column: 2.0162400000000003\n"
          ]
        }
      ]
    },
    {
      "cell_type": "markdown",
      "source": [
        "This code will output the mean of the first 5 rows of the second-to-last column from the CSV data."
      ],
      "metadata": {
        "id": "ucNuxRzzywII"
      }
    },
    {
      "cell_type": "markdown",
      "source": [
        "---\n",
        "\n",
        "### Problem Statement: Analysis of California Housing Dataset Using NumPy\n",
        "\n",
        "#### Background:\n",
        "The California housing dataset is a renowned dataset that contains information about different districts in California. It includes various features such as median income, housing median age, average rooms, average bedrooms, population, average occupancy, latitude, and longitude. The target variable is the median house value for each district. This dataset is widely used for regression analysis in machine learning and data science projects.\n",
        "\n",
        "#### Objective:\n",
        "The primary objective of this task is to perform exploratory data analysis (EDA) on the California housing dataset using NumPy, a fundamental package for scientific computing with Python. You will load the dataset, perform data manipulation, and calculate statistical measures to understand the dataset's characteristics better. This task aims to provide insights into the housing market in California districts based on the dataset's features.\n",
        "\n",
        "#### Tasks:\n",
        "\n",
        "1. **Load the Dataset**:\n",
        "   - Load the California housing dataset into a NumPy array. Assume the dataset is stored in a CSV file named `california_housing_train.csv`. The first row contains the column names, which should be skipped.\n",
        "\n",
        "2. **Data Exploration**:\n",
        "   - Extract the following features into separate NumPy arrays: `median_income`, `housing_median_age`, `total_rooms`, `population`, and `median_house_value`.\n",
        "   - For each extracted feature, calculate the mean and standard deviation to understand the distribution of these features across all districts.\n",
        "\n",
        "3. **Feature Analysis**:\n",
        "   - Calculate the median value of `total_rooms` across all districts.\n",
        "   - Identify the district with the highest `population` and extract its details.\n",
        "   - Compute the average `median_house_value` of districts with a `median_income` higher than the overall median income of the dataset.\n",
        "\n",
        "4. **Geographical Insights**:\n",
        "   - Filter the districts located within the latitude range of 35 to 38 degrees.\n",
        "   - For these filtered districts, calculate the average `median_house_value` and compare it with the overall average `median_house_value` of the dataset.\n",
        "\n",
        "5. **Data Segmentation**:\n",
        "   - Segment the districts into two groups based on the `housing_median_age`: \"Newer Districts\" with a `housing_median_age` less than 20 years, and \"Older Districts\" with a `housing_median_age` of 20 years or more.\n",
        "   - Calculate and compare the average `median_house_value` between these two groups.\n",
        "---\n"
      ],
      "metadata": {
        "id": "jpGfI-zk4XEa"
      }
    },
    {
      "cell_type": "code",
      "source": [
        "# Write the solution of the above problem statement"
      ],
      "metadata": {
        "id": "5ixYzMmq45J2"
      },
      "execution_count": null,
      "outputs": []
    },
    {
      "cell_type": "code",
      "execution_count": null,
      "metadata": {
        "colab": {
          "base_uri": "https://localhost:8080/",
          "height": 472
        },
        "id": "zm-bf-FZ4FRn",
        "outputId": "2f15ed1b-ca72-4bbf-e971-83e41b0cf490"
      },
      "outputs": [
        {
          "data": {
            "image/png": "[encoded data removed]",
            "text/plain": [
              "<Figure size 640x480 with 1 Axes>"
            ]
          },
          "metadata": {},
          "output_type": "display_data"
        }
      ],
      "source": [
        "import numpy as np\n",
        "import matplotlib.pyplot as plt\n",
        "\n",
        "# Load CSV file into a NumPy array\n",
        "data = np.genfromtxt('/content/sample_data/california_housing_train.csv', delimiter=',', skip_header=1)\n",
        "\n",
        "# Extracting columns for plotting (e.g., longitude vs latitude)\n",
        "longitude = data[:, 0]\n",
        "latitude = data[:, 1]\n",
        "\n",
        "# Scatter plot\n",
        "plt.scatter(longitude, latitude)\n",
        "plt.xlabel('Longitude')\n",
        "plt.ylabel('Latitude')\n",
        "plt.title('California Housing: Longitude vs Latitude')\n",
        "plt.show()"
      ]
    },
    {
      "cell_type": "code",
      "execution_count": null,
      "metadata": {
        "colab": {
          "base_uri": "https://localhost:8080/"
        },
        "id": "MiIXE0l5414k",
        "outputId": "d6e93f07-d866-41cf-bd30-d3d4f799d786"
      },
      "outputs": [
        {
          "name": "stdout",
          "output_type": "stream",
          "text": [
            "[[1 3]\n",
            " [4 6]\n",
            " [7 9]]\n"
          ]
        }
      ],
      "source": [
        "import numpy as np\n",
        "\n",
        "arr_2d = np.array([[1, 2, 3],\n",
        "                   [4, 5, 6],\n",
        "                   [7, 8, 9]])\n",
        "\n",
        "# Fancy indexing to select specific elements\n",
        "indices = np.array([0, 2])\n",
        "selected_elements = arr_2d[:, indices]\n",
        "print(selected_elements)\n"
      ]
    },
    {
      "cell_type": "code",
      "execution_count": null,
      "metadata": {
        "colab": {
          "base_uri": "https://localhost:8080/"
        },
        "id": "EFVq3v2d5BTF",
        "outputId": "7ef16379-36cf-4974-88a3-e2aeeb0cdda0"
      },
      "outputs": [
        {
          "name": "stdout",
          "output_type": "stream",
          "text": [
            "[1 2 4]\n"
          ]
        }
      ],
      "source": [
        "import numpy as np\n",
        "import numpy.ma as ma\n",
        "\n",
        "# Create a masked array\n",
        "data = np.array([1, 2, -1, 4, -5])\n",
        "mask = (data < 0)\n",
        "masked_data = ma.masked_array(data, mask=mask)\n",
        "\n",
        "# Slicing to select unmasked elements\n",
        "selected_elements = masked_data[~masked_data.mask]\n",
        "print(selected_elements)"
      ]
    },
    {
      "cell_type": "markdown",
      "metadata": {
        "id": "8eYVELKn5ME_"
      },
      "source": [
        "Problem Statement:\n",
        "\n",
        "You are given a 2D NumPy array representing student scores in different subjects. Your task is to implement a function that selects scores for specific subjects based on given indices using fancy indexing.\n",
        "\n",
        "Write a Python function named select_subject_scores(scores, subject_indices) that takes the following parameters:\n",
        "\n",
        "scores: A 2D NumPy array of shape (m, n) representing student scores, where m is the number of students and n is the number of subjects. Each row contains scores of a student in different subjects.\n",
        "subject_indices: A list containing the indices of the subjects to be selected.\n",
        "The function should return a 2D NumPy array containing scores for the specified subjects for all students."
      ]
    },
    {
      "cell_type": "markdown",
      "source": [
        "#Problem Statement:\n",
        "\n",
        "Develop a Python script to analyze the distribution of IMDB scores across movies listed in the 'movie_metadata.csv' dataset. The script should load the dataset, extract the IMDB scores, and generate a scatter plot to visualize the distribution of these scores. The scatter plot should plot each movie's IMDB score against its index in the dataset to provide insights into the range and concentration of IMDB scores. This analysis aims to understand the variability of movie ratings and identify any patterns or outliers in the dataset."
      ],
      "metadata": {
        "id": "wG0AeaVOod_C"
      }
    },
    {
      "cell_type": "code",
      "source": [
        "import numpy as np\n",
        "import matplotlib.pyplot as plt\n",
        "\n",
        "# Load CSV file into a NumPy array, assuming 'movie_metadata.csv' is in the current directory\n",
        "data = np.genfromtxt('movie_metadata.csv', delimiter=',', skip_header=1, usecols=25, invalid_raise=False)\n",
        "\n",
        "# Extracting the IMDB scores column (assuming it's the 26th column, index 25)\n",
        "imdb_scores = data\n",
        "\n",
        "# Scatter plot of the IMDB scores\n",
        "# Here, we're just plotting the scores against their index to visualize the distribution\n",
        "plt.scatter(range(len(imdb_scores)), imdb_scores)\n",
        "plt.xlabel('Movie Index')\n",
        "plt.ylabel('IMDB Score')\n",
        "plt.title('Scatter Plot of IMDB Scores')\n",
        "plt.show()"
      ],
      "metadata": {
        "colab": {
          "base_uri": "https://localhost:8080/",
          "height": 545
        },
        "id": "BRezK_VhlASD",
        "outputId": "c0ae59eb-9a4a-4801-bb60-c44e0095931a"
      },
      "execution_count": null,
      "outputs": [
        {
          "output_type": "stream",
          "name": "stderr",
          "text": [
            "<ipython-input-4-058cae78b746>:5: ConversionWarning: Some errors were detected !\n",
            "    Line #3906 (got 12 columns instead of 1)\n",
            "    Line #4449 (got 12 columns instead of 1)\n",
            "  data = np.genfromtxt('movie_metadata.csv', delimiter=',', skip_header=1, usecols=25, invalid_raise=False)\n"
          ]
        },
        {
          "output_type": "display_data",
          "data": {
            "text/plain": [
              "<Figure size 640x480 with 1 Axes>"
            ],
            "image/png": "[encoded data removed]"
          },
          "metadata": {}
        }
      ]
    },
    {
      "cell_type": "markdown",
      "source": [
        "#Explanation of the code -\n",
        "This Python code snippet is designed to load a dataset from a CSV file, specifically the 'movie_metadata.csv' file, and create a scatter plot of the IMDB scores for each movie in the dataset. The code uses two popular Python libraries: NumPy and Matplotlib. Here's a step-by-step explanation of what each part of the code does:\n",
        "\n",
        "### Importing Libraries\n",
        "\n",
        "```python\n",
        "import numpy as np\n",
        "import matplotlib.pyplot as plt\n",
        "```\n",
        "\n",
        "- `import numpy as np`: This line imports the NumPy library and gives it the alias `np`. NumPy is a library for the Python programming language that supports large, multi-dimensional arrays and matrices, along with a collection of mathematical functions to operate on these arrays.\n",
        "- `import matplotlib.pyplot as plt`: This line imports the `pyplot` module from the Matplotlib library and gives it the alias `plt`. Matplotlib is a plotting library for Python and its numerical mathematics extension NumPy. `pyplot` provides a MATLAB-like interface for making plots and graphs.\n",
        "\n",
        "### Loading the Data\n",
        "\n",
        "```python\n",
        "data = np.genfromtxt('movie_metadata.csv', delimiter=',', skip_header=1, usecols=25, invalid_raise=False)\n",
        "```\n",
        "\n",
        "- `data = np.genfromtxt(...)`: This line uses the `genfromtxt` function from NumPy to load data from the 'movie_metadata.csv' file into a NumPy array called `data`.\n",
        "- `'movie_metadata.csv'`: This is the name of the CSV file that contains the dataset.\n",
        "- `delimiter=','`: This specifies that the delimiter (the character that separates values in the file) is a comma, which is standard for CSV (Comma-Separated Values) files.\n",
        "- `skip_header=1`: This tells the function to skip the first line of the file, which is typically the header row containing column names.\n",
        "- `usecols=25`: This parameter indicates that only the 26th column (index 25, as NumPy indexing starts at 0) should be loaded. This column contains the IMDB scores.\n",
        "- `invalid_raise=False`: This tells the function to ignore any lines with errors, such as missing or malformed data, instead of raising an error.\n",
        "\n",
        "### Extracting the IMDB Scores\n",
        "\n",
        "```python\n",
        "imdb_scores = data\n",
        "```\n",
        "\n",
        "- This line assigns the data loaded from the CSV file to a new variable called `imdb_scores`. Since `usecols=25` was specified, `data` only contains the IMDB scores, so this assignment is somewhat redundant but can make the code clearer.\n",
        "\n",
        "### Creating the Scatter Plot\n",
        "\n",
        "```python\n",
        "plt.scatter(range(len(imdb_scores)), imdb_scores)\n",
        "plt.xlabel('Movie Index')\n",
        "plt.ylabel('IMDB Score')\n",
        "plt.title('Scatter Plot of IMDB Scores')\n",
        "plt.show()\n",
        "```\n",
        "\n",
        "- `plt.scatter(...)`: This line creates a scatter plot. The first argument, `range(len(imdb_scores))`, generates a sequence of numbers from 0 to the length of the `imdb_scores` array minus one, which serves as the x-coordinates for the plot. The second argument, `imdb_scores`, provides the y-coordinates, which are the actual IMDB scores.\n",
        "- `plt.xlabel('Movie Index')`: This adds a label to the x-axis of the plot, which in this case is 'Movie Index'.\n",
        "- `plt.ylabel('IMDB Score')`: This adds a label to the y-axis of the plot, which in this case is 'IMDB Score'.\n",
        "- `plt.title('Scatter Plot of IMDB Scores')`: This sets the title of the plot.\n",
        "- `plt.show()`: This displays the plot. When this function is called, a window will open showing the scatter plot of the IMDB scores against their corresponding movie index.\n",
        "\n"
      ],
      "metadata": {
        "id": "hMU2VG8OnBmX"
      }
    }
  ],
  "metadata": {
    "colab": {
      "provenance": []
    },
    "kernelspec": {
      "display_name": "Python 3",
      "name": "python3"
    },
    "language_info": {
      "name": "python"
    }
  },
  "nbformat": 4,
  "nbformat_minor": 0
}