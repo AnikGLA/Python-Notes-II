{
  "nbformat": 4,
  "nbformat_minor": 0,
  "metadata": {
    "colab": {
      "provenance": []
    },
    "kernelspec": {
      "name": "python3",
      "display_name": "Python 3"
    },
    "language_info": {
      "name": "python"
    }
  },
  "cells": [
    {
      "cell_type": "code",
      "execution_count": null,
      "metadata": {
        "colab": {
          "base_uri": "https://localhost:8080/"
        },
        "id": "QxZBcWdrPM1P",
        "outputId": "4fee460f-7bae-439d-9abd-96db1c54346b"
      },
      "outputs": [
        {
          "output_type": "stream",
          "name": "stdout",
          "text": [
            "Name: Ankush\n",
            "Age: 29\n",
            "Employee ID: EMP171\n",
            "Salary: $90000.0\n"
          ]
        }
      ],
      "source": [
        "class Person:\n",
        "    def __init__(self, name, age):\n",
        "        self.name = name\n",
        "        self.age = age\n",
        "\n",
        "    def display_info(self):\n",
        "        print(f\"Name: {self.name}\\nAge: {self.age}\")\n",
        "\n",
        "\n",
        "class Employee:\n",
        "    def __init__(self, employee_id, salary):\n",
        "        self.employee_id = employee_id\n",
        "        self.salary = salary\n",
        "\n",
        "    def display_info(self):\n",
        "        print(f\"Employee ID: {self.employee_id}\\nSalary: ${self.salary}\")\n",
        "\n",
        "\n",
        "class EmployeePerson(Person, Employee):\n",
        "    def __init__(self, name, age, employee_id, salary):\n",
        "        Person.__init__(self, name, age)\n",
        "        Employee.__init__(self, employee_id, salary)\n",
        "\n",
        "    def display_all_info(self):\n",
        "        Person.display_info(self)\n",
        "        Employee.display_info(self)\n",
        "\n",
        "\n",
        "employee_person = EmployeePerson(\"Ankush\", 29, \"EMP171\", 90000.0)\n",
        "\n",
        "employee_person.display_all_info()"
      ]
    },
    {
      "cell_type": "code",
      "source": [
        "class Element:\n",
        "    def __init__(self, color, symbol):\n",
        "        self.color = color\n",
        "        self.symbol = symbol\n",
        "\n",
        "    def display_info(self):\n",
        "        print(f\"Color: {self.color}\\nSymbol: {self.symbol}\")\n",
        "\n",
        "\n",
        "class Compound(Element):\n",
        "    def __init__(self, color, composition):\n",
        "        super().__init__(color, \"Compound\")\n",
        "        self.composition = composition\n",
        "\n",
        "    def describe_composition(self):\n",
        "        print(\"\\nCompound Information:\")\n",
        "        self.display_info()\n",
        "        print(\"Detailed Composition:\")\n",
        "        elements = self.composition.split(' ')\n",
        "        for element in elements:\n",
        "            element_name = ' '.join(filter(str.isalpha, element))\n",
        "            print(f\"{element_name.capitalize()}\")\n",
        "            element_count = ' '.join(filter(str.isdigit, element))\n",
        "            print(f\"{element_count}\")\n",
        "\n",
        "\n",
        "class Metal(Element):\n",
        "    def __init__(self, color, symbol, atomic_number):\n",
        "        super().__init__(color, symbol)\n",
        "        self.atomic_number = atomic_number\n",
        "\n",
        "    def identify_metal(self):\n",
        "        print(\"\\nMetal Information:\")\n",
        "        self.display_info()\n",
        "        print(f\"Atomic Number: {self.atomic_number}\")\n",
        "        print(f\"Metal Identified: {self.symbol}\")\n",
        "\n",
        "\n",
        "compound_element = Compound(\"Purple\", \"C6H12O6\")\n",
        "metal_element = Metal(\"Silver\", \"Ag\", 47)\n",
        "\n",
        "# compound_element = Compound(\"Green\", \"N2O4\")\n",
        "# metal_element = Metal(\"Gold\", \"Au\", 79)\n",
        "\n",
        "compound_element.describe_composition()\n",
        "metal_element.identify_metal()"
      ],
      "metadata": {
        "colab": {
          "base_uri": "https://localhost:8080/"
        },
        "id": "TABd4ymIW6hR",
        "outputId": "8012cd81-839f-471e-e383-dabc5f5c9f59"
      },
      "execution_count": null,
      "outputs": [
        {
          "output_type": "stream",
          "name": "stdout",
          "text": [
            "\n",
            "Compound Information:\n",
            "Color: Purple\n",
            "Symbol: Compound\n",
            "Detailed Composition:\n",
            "C h o\n",
            "6 1 2 6\n",
            "\n",
            "Metal Information:\n",
            "Color: Silver\n",
            "Symbol: Ag\n",
            "Atomic Number: 47\n",
            "Metal Identified: Ag\n"
          ]
        }
      ]
    },
    {
      "cell_type": "code",
      "source": [
        "from abc import ABC, abstractmethod\n",
        "\n",
        "class Shape(ABC):\n",
        "    @abstractmethod\n",
        "    def calculate_area(self):\n",
        "        pass\n",
        "\n",
        "class Circle(Shape):\n",
        "    def __init__(self, radius):\n",
        "        self.radius = radius\n",
        "\n",
        "    def calculate_area(self):\n",
        "        return 3.14 * self.radius**2\n",
        "\n",
        "class Square(Shape):\n",
        "    def __init__(self, side_length):\n",
        "        self.side_length = side_length\n",
        "\n",
        "    def calculate_area(self):\n",
        "        return self.side_length**2\n",
        "\n",
        "class Rectangle(Shape):\n",
        "    def __init__(self, length, width):\n",
        "        self.length = length\n",
        "        self.width = width\n",
        "\n",
        "    def calculate_area(self):\n",
        "        return self.length * self.width\n",
        "\n",
        "class User:\n",
        "    def calculate_area(self, shape, data):\n",
        "        try:\n",
        "            if shape.lower() == \"circle\":\n",
        "                shape_instance = Circle(data['radius'])\n",
        "            elif shape.lower() == \"square\":\n",
        "                shape_instance = Square(data['side_length'])\n",
        "            elif shape.lower() == \"rectangle\":\n",
        "                shape_instance = Rectangle(data['length'], data['width'])\n",
        "            else:\n",
        "                print(f\"Invalid shape: {shape}\")\n",
        "                return\n",
        "\n",
        "            area = shape_instance.calculate_area()\n",
        "            print(f\"Area of {shape.capitalize()} with {', '.join([f'{key} {value}' for key, value in data.items()])}: {area:.2f}\")\n",
        "\n",
        "        except ValueError:\n",
        "            print(\"Invalid input. Please enter valid numeric values.\")\n",
        "\n",
        "circle_data = {'radius': 7.0}\n",
        "square_data = {'side_length': 6.0}\n",
        "rectangle_data = {'length': 16.0, 'width': 13.0}\n",
        "\n",
        "user = User()\n",
        "\n",
        "user.calculate_area(\"circle\", circle_data)\n",
        "\n",
        "user.calculate_area(\"square\", square_data)\n",
        "\n",
        "user.calculate_area(\"rectangle\", rectangle_data)"
      ],
      "metadata": {
        "id": "tps1UUv7ZD3C",
        "colab": {
          "base_uri": "https://localhost:8080/"
        },
        "outputId": "5d466373-0366-4b04-e176-07e859029de8"
      },
      "execution_count": null,
      "outputs": [
        {
          "output_type": "stream",
          "name": "stdout",
          "text": [
            "Area of Circle with radius 7.0: 153.86\n",
            "Area of Square with side_length 6.0: 36.00\n",
            "Area of Rectangle with length 16.0, width 13.0: 208.00\n"
          ]
        }
      ]
    }
  ]
}