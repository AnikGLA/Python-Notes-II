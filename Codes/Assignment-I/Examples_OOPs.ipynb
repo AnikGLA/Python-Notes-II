{
  "nbformat": 4,
  "nbformat_minor": 0,
  "metadata": {
    "colab": {
      "provenance": []
    },
    "kernelspec": {
      "name": "python3",
      "display_name": "Python 3"
    },
    "language_info": {
      "name": "python"
    }
  },
  "cells": [
    {
      "cell_type": "code",
      "execution_count": null,
      "metadata": {
        "colab": {
          "base_uri": "https://localhost:8080/"
        },
        "id": "m3Q1P5X-r9Hg",
        "outputId": "6ae8079e-5867-4446-ced5-17b6d301d49e"
      },
      "outputs": [
        {
          "output_type": "stream",
          "name": "stdout",
          "text": [
            "Car 1: 2020 Toyota Camry\n",
            "The 2020 Toyota Camry's engine is now running.\n",
            "The 2020 Toyota Camry's engine is now stopped.\n",
            "\n",
            "Car 2: 2021 Honda Accord\n",
            "The 2021 Honda Accord's engine is now running.\n",
            "The engine is already running.\n",
            "The 2021 Honda Accord's engine is now stopped.\n"
          ]
        }
      ],
      "source": [
        "class Car: #created a class with the name 'Car'\n",
        "    def __init__(self, make, model, year): #created a 'init' constructor\n",
        "        self._make = make  #self.make = make\n",
        "        self._model = model\n",
        "        self._year = year\n",
        "        self._is_running = False\n",
        "\n",
        "    def start_engine(self):\n",
        "        if not self._is_running:\n",
        "            print(f\"The {self._year} {self._make} {self._model}'s engine is now running.\")\n",
        "            self._is_running = True\n",
        "        else:\n",
        "            print(\"The engine is already running.\")\n",
        "\n",
        "    def stop_engine(self):\n",
        "        if self._is_running:\n",
        "            print(f\"The {self._year} {self._make} {self._model}'s engine is now stopped.\")\n",
        "            self._is_running = False\n",
        "        else:\n",
        "            print(\"The engine is already stopped.\")\n",
        "\n",
        "    def get_info(self):\n",
        "        return f\"{self._year} {self._make} {self._model}\"\n",
        "\n",
        "# Creating objects of the Car class\n",
        "car1 = Car(\"Toyota\", \"Camry\", 2020)\n",
        "car2 = Car(\"Honda\", \"Accord\", 2021)\n",
        "\n",
        "# Accessing and modifying encapsulated attributes\n",
        "print(f\"Car 1: {car1.get_info()}\")\n",
        "car1.start_engine()\n",
        "car1.stop_engine()\n",
        "\n",
        "print(f\"\\nCar 2: {car2.get_info()}\")\n",
        "car2.start_engine()\n",
        "car2.start_engine()\n",
        "car2.stop_engine()"
      ]
    },
    {
      "cell_type": "markdown",
      "source": [
        "Class Definition:\n",
        "\n",
        "class Car: defines a class named \"Car.\" This class has an __init__ method, which is a special method in Python that gets called when an instance of the class is created.\n",
        "\n",
        "Method __init__(self, make, model, year): The __init__ method is used for initializing the attributes of the class when an instance is created.\n",
        "\n",
        "self: The self parameter refers to the instance of the class. It is a convention in Python to use self as the first parameter for instance methods.\n",
        "\n",
        "make, model, and year: Parameters representing the make, model, and year of the car.\n",
        "\n",
        "self._make, self._model, self._year: Attributes (encapsulated) to store the make, model, and year of the car.\n",
        "\n",
        "self._is_running: An attribute to track whether the car's engine is running, initialized to False.\n",
        "\n",
        "Method start_engine(self):\n",
        "\n",
        "This method starts the car's engine if it is not already running.\n",
        "Checks the value of self._is_running. If it is False, the engine is started, and the status is updated to True. If it's already True, a message is printed indicating that the engine is already running.\n",
        "\n",
        "Method stop_engine(self):\n",
        "\n",
        "This method stops the car's engine if it is running.\n",
        "Checks the value of self._is_running. If it is True, the engine is stopped, and the status is updated to False. If it's already False, a message is printed indicating that the engine is already stopped.\n",
        "\n",
        "Method get_info(self):\n",
        "\n",
        "This method returns a string containing information about the car (make, model, year).\n",
        "The string is formatted using the attributes self._year, self._make, and self._model.\n",
        "\n",
        "Creating Objects and Using the Class:\n",
        "\n",
        "Objects of the \"Car\" class are created using car1 = Car(\"Toyota\", \"Camry\", 2020) and car2 = Car(\"Honda\", \"Accord\", 2021).\n",
        "\n",
        "The __init__ method is automatically called during object creation, initializing the attributes of the class instances.\n",
        "\n",
        "Methods start_engine, stop_engine, and get_info are then called on the objects to demonstrate the functionality of the class."
      ],
      "metadata": {
        "id": "Vyz7GbvA_cLe"
      }
    },
    {
      "cell_type": "code",
      "source": [
        "class Animal:\n",
        "    def __init__(self, species, sound):\n",
        "        self._species = species\n",
        "        self._sound = sound\n",
        "\n",
        "    def make_sound(self):\n",
        "        print(f\"The {self._species} makes a {self._sound} sound.\")\n",
        "\n",
        "\n",
        "lion = Animal(\"Lion\", \"roar\")\n",
        "dog = Animal(\"Dog\", \"bark\")\n",
        "\n",
        "lion.make_sound()\n",
        "dog.make_sound()"
      ],
      "metadata": {
        "colab": {
          "base_uri": "https://localhost:8080/"
        },
        "id": "E9YNfiho0tLu",
        "outputId": "9d560722-b6fb-49cd-c053-be8e88614bd9"
      },
      "execution_count": null,
      "outputs": [
        {
          "output_type": "stream",
          "name": "stdout",
          "text": [
            "The Lion makes a roar sound.\n",
            "The Dog makes a bark sound.\n"
          ]
        }
      ]
    },
    {
      "cell_type": "code",
      "source": [
        "class Rectangle:\n",
        "    def __init__(self, length, width):\n",
        "        self._length = length\n",
        "        self._width = width\n",
        "\n",
        "    def calculate_area(self):\n",
        "        return self._length * self._width\n",
        "\n",
        "    def calculate_perimeter(self):\n",
        "        return 2 * (self._length + self._width)\n",
        "\n",
        "rectangle1 = Rectangle(5, 8)\n",
        "rectangle2 = Rectangle(10, 15)\n",
        "\n",
        "print(f\"Rectangle 1 Area: {rectangle1.calculate_area()}\")\n",
        "print(f\"Rectangle 1 Perimeter: {rectangle1.calculate_perimeter()}\")\n",
        "print(f\"Rectangle 2 Area: {rectangle2.calculate_area()}\")\n",
        "print(f\"Rectangle 2 Perimeter: {rectangle2.calculate_perimeter()}\")"
      ],
      "metadata": {
        "id": "eMhAbXm21jTc",
        "outputId": "68ebe82d-6adc-4ca4-90ca-5410de183e0d",
        "colab": {
          "base_uri": "https://localhost:8080/"
        }
      },
      "execution_count": null,
      "outputs": [
        {
          "output_type": "stream",
          "name": "stdout",
          "text": [
            "Rectangle 1 Area: 40\n",
            "Rectangle 1 Perimeter: 26\n",
            "Rectangle 2 Area: 150\n",
            "Rectangle 2 Perimeter: 50\n"
          ]
        }
      ]
    },
    {
      "cell_type": "code",
      "source": [
        "class Person:\n",
        "    def __init__(self, name, age, occupation):\n",
        "        self._name = name\n",
        "        self._age = age\n",
        "        self._occupation = occupation\n",
        "\n",
        "    def greet(self):\n",
        "        print(f\"Hello, I'm {self._name}, a {self._age}-year-old {self._occupation}.\")\n",
        "\n",
        "person1 = Person(\"Alice\", 28, \"Software Engineer\")\n",
        "person2 = Person(\"Bob\", 35, \"Data Scientist\")\n",
        "\n",
        "person1.greet()\n",
        "person2.greet()"
      ],
      "metadata": {
        "id": "ktsxRo_43BiR",
        "outputId": "8fb24420-9557-49be-f0a1-fec793215f89",
        "colab": {
          "base_uri": "https://localhost:8080/"
        }
      },
      "execution_count": null,
      "outputs": [
        {
          "output_type": "stream",
          "name": "stdout",
          "text": [
            "Hello, I'm Alice, a 28-year-old Software Engineer.\n",
            "Hello, I'm Bob, a 35-year-old Data Scientist.\n"
          ]
        }
      ]
    },
    {
      "cell_type": "code",
      "source": [
        "class CoffeeMachine:\n",
        "    def __init__(self, brand, model, water_level):\n",
        "        self._brand = brand\n",
        "        self._model = model\n",
        "        self._water_level = water_level\n",
        "\n",
        "    def brew_coffee(self):\n",
        "        if self._water_level >= 50:\n",
        "            print(f\"Brewing coffee with the {self._brand} {self._model}. Enjoy your coffee!\")\n",
        "            self._water_level -= 50\n",
        "        else:\n",
        "            print(\"Cannot brew coffee. Add water to the machine.\")\n",
        "\n",
        "    def add_water(self, amount):\n",
        "        self._water_level += amount\n",
        "        print(f\"Added {amount}ml of water. Current water level: {self._water_level}ml\")\n",
        "\n",
        "coffee_machine1 = CoffeeMachine(\"Keurig\", \"K-Elite\", 200)\n",
        "coffee_machine2 = CoffeeMachine(\"Nespresso\", \"Vertuo\", 30)\n",
        "\n",
        "coffee_machine1.brew_coffee()\n",
        "coffee_machine2.brew_coffee()\n",
        "coffee_machine2.add_water(100)\n",
        "coffee_machine2.brew_coffee()"
      ],
      "metadata": {
        "colab": {
          "base_uri": "https://localhost:8080/"
        },
        "id": "vBOEHdUL8oM_",
        "outputId": "638e13ba-cc35-4ca7-abcf-2560674e135d"
      },
      "execution_count": null,
      "outputs": [
        {
          "output_type": "stream",
          "name": "stdout",
          "text": [
            "Brewing coffee with the Keurig K-Elite. Enjoy your coffee!\n",
            "Cannot brew coffee. Add water to the machine.\n",
            "Added 100ml of water. Current water level: 130ml\n",
            "Brewing coffee with the Nespresso Vertuo. Enjoy your coffee!\n"
          ]
        }
      ]
    },
    {
      "cell_type": "code",
      "source": [
        "class StudentRecord:\n",
        "    def __init__(self, student_id, name, grades):\n",
        "        self._student_id = student_id\n",
        "        self._name = name\n",
        "        self._grades = grades\n",
        "\n",
        "    def calculate_average_grade(self):\n",
        "        if not self._grades:\n",
        "            return 0.0\n",
        "        return sum(self._grades) / len(self._grades)\n",
        "\n",
        "    def display_info(self):\n",
        "        return f\"Student ID: {self._student_id}\\nName: {self._name}\\nGrades: {', '.join(map(str, self._grades))}\\nAverage Grade: {self.calculate_average_grade()}\"\n",
        "\n",
        "student1 = StudentRecord(101, \"John Doe\", [85, 90, 88, 92])\n",
        "student2 = StudentRecord(102, \"Alice Smith\", [78, 85, 90, 92])\n",
        "\n",
        "print(student1.display_info())\n",
        "print(student2.display_info())"
      ],
      "metadata": {
        "colab": {
          "base_uri": "https://localhost:8080/"
        },
        "id": "2f-GpT0X8rlo",
        "outputId": "51721292-daf6-4a7e-cbe8-7c67538c0ec9"
      },
      "execution_count": null,
      "outputs": [
        {
          "output_type": "stream",
          "name": "stdout",
          "text": [
            "Student ID: 101\n",
            "Name: John Doe\n",
            "Grades: 85, 90, 88, 92\n",
            "Average Grade: 88.75\n",
            "Student ID: 102\n",
            "Name: Alice Smith\n",
            "Grades: 78, 85, 90, 92\n",
            "Average Grade: 86.25\n"
          ]
        }
      ]
    },
    {
      "cell_type": "code",
      "source": [
        "class BankCustomer:\n",
        "    def __init__(self, customer_id, name, balance):\n",
        "        self._customer_id = customer_id\n",
        "        self._name = name\n",
        "        self._balance = balance\n",
        "\n",
        "    def deposit(self, amount):\n",
        "        self._balance += amount\n",
        "        print(f\"Deposited ${amount}. New balance: ${self._balance}\")\n",
        "\n",
        "    def withdraw(self, amount):\n",
        "        if amount > self._balance:\n",
        "            print(\"Insufficient funds. Withdrawal denied.\")\n",
        "        else:\n",
        "            self._balance -= amount\n",
        "            print(f\"Withdrew ${amount}. New balance: ${self._balance}\")\n",
        "\n",
        "    def display_info(self):\n",
        "        return f\"Customer ID: {self._customer_id}\\nName: {self._name}\\nBalance: ${self._balance}\"\n",
        "\n",
        "customer1 = BankCustomer(1001, \"Bob Johnson\", 5000)\n",
        "customer2 = BankCustomer(1002, \"Emily Davis\", 7500)\n",
        "\n",
        "customer1.deposit(1000)\n",
        "customer2.withdraw(2000)\n",
        "print(customer1.display_info())\n",
        "print(customer2.display_info())"
      ],
      "metadata": {
        "colab": {
          "base_uri": "https://localhost:8080/"
        },
        "id": "k122tWjl8-mr",
        "outputId": "f44127ee-a19d-4b4d-f91b-1a60f5ef1a23"
      },
      "execution_count": null,
      "outputs": [
        {
          "output_type": "stream",
          "name": "stdout",
          "text": [
            "Deposited $1000. New balance: $6000\n",
            "Withdrew $2000. New balance: $5500\n",
            "Customer ID: 1001\n",
            "Name: Bob Johnson\n",
            "Balance: $6000\n",
            "Customer ID: 1002\n",
            "Name: Emily Davis\n",
            "Balance: $5500\n"
          ]
        }
      ]
    },
    {
      "cell_type": "code",
      "source": [
        "#Without init function()\n",
        "class Car:\n",
        "    def set_car_info(self, make, model, year):\n",
        "        self._make = make\n",
        "        self._model = model\n",
        "        self._year = year\n",
        "        self._is_running = False\n",
        "\n",
        "    def start_engine(self):\n",
        "        if not self._is_running:\n",
        "            print(f\"The {self._year} {self._make} {self._model}'s engine is now running.\")\n",
        "            self._is_running = True\n",
        "        else:\n",
        "            print(\"The engine is already running.\")\n",
        "\n",
        "    def stop_engine(self):\n",
        "        if self._is_running:\n",
        "            print(f\"The {self._year} {self._make} {self._model}'s engine is now stopped.\")\n",
        "            self._is_running = False\n",
        "        else:\n",
        "            print(\"The engine is already stopped.\")\n",
        "\n",
        "    def get_info(self):\n",
        "        return f\"{self._year} {self._make} {self._model}\"\n",
        "\n",
        "car1 = Car()\n",
        "car1.set_car_info(\"Toyota\", \"Camry\", 2020)\n",
        "\n",
        "car2 = Car()\n",
        "car2.set_car_info(\"Honda\", \"Accord\", 2021)\n",
        "\n",
        "print(f\"Car 1: {car1.get_info()}\")\n",
        "car1.start_engine()\n",
        "car1.stop_engine()\n",
        "\n",
        "print(f\"\\nCar 2: {car2.get_info()}\")\n",
        "car2.start_engine()\n",
        "car2.start_engine()\n",
        "car2.stop_engine()"
      ],
      "metadata": {
        "colab": {
          "base_uri": "https://localhost:8080/"
        },
        "id": "loFuoWxc_Doe",
        "outputId": "4cfe3114-b97a-486a-8c99-9e25d42f1b04"
      },
      "execution_count": null,
      "outputs": [
        {
          "output_type": "stream",
          "name": "stdout",
          "text": [
            "Car 1: 2020 Toyota Camry\n",
            "The 2020 Toyota Camry's engine is now running.\n",
            "The 2020 Toyota Camry's engine is now stopped.\n",
            "\n",
            "Car 2: 2021 Honda Accord\n",
            "The 2021 Honda Accord's engine is now running.\n",
            "The engine is already running.\n",
            "The 2021 Honda Accord's engine is now stopped.\n"
          ]
        }
      ]
    },
    {
      "cell_type": "markdown",
      "source": [
        "Class Definition:\n",
        "\n",
        "class Car: defines a class named \"Car.\" A class is a blueprint for creating objects, and it encapsulates data (attributes) and methods (functions) that operate on that data.\n",
        "\n",
        "Method set_car_info(self, make, model, year):\n",
        "This method sets the initial information of the car, such as its make, model, and year.\n",
        "\n",
        "self: The self parameter refers to the instance of the class. It is a convention in Python to use self as the first parameter for instance methods.\n",
        "\n",
        "make, model, and year: Parameters representing the make, model, and year of the car.\n",
        "\n",
        "self._make, self._model, self._year: Attributes (encapsulated) to store the make, model, and year of the car.\n",
        "\n",
        "self._is_running: An attribute to track whether the car's engine is running, initialized to False.\n",
        "\n",
        "Method start_engine(self):\n",
        "\n",
        "This method starts the car's engine if it is not already running.\n",
        "Checks the value of self._is_running. If it is False, the engine is started, and the status is updated to True. If it's already True, a message is printed indicating that the engine is already running.\n",
        "\n",
        "Method stop_engine(self):\n",
        "\n",
        "This method stops the car's engine if it is running.\n",
        "Checks the value of self._is_running. If it is True, the engine is stopped, and the status is updated to False. If it's already False, a message is printed indicating that the engine is already stopped."
      ],
      "metadata": {
        "id": "Jdvh2k-ABlZL"
      }
    },
    {
      "cell_type": "code",
      "source": [
        "#Assignment 1\n",
        "# You are tasked with implementing a simple library system using Python classes.\n",
        "# Create a Book class with encapsulated attributes for the book's title, author, and ISBN.\n",
        "# Include methods to display book information and check if the book is available or checked out.\n",
        "# Create an object of the Book class and demonstrate its functionality."
      ],
      "metadata": {
        "id": "j9y6G5P_EsCw"
      },
      "execution_count": null,
      "outputs": []
    },
    {
      "cell_type": "markdown",
      "source": [
        "# Assignment 2:\n",
        "# Problem Statement:\n",
        "\n",
        "# Design a BankAccount class with encapsulated attributes for an account holder's name, account number, and balance. Include methods to deposit, withdraw, and display the account information. Ensure that the balance is not accessible directly and provide proper validation for withdrawal to avoid overdraft."
      ],
      "metadata": {
        "id": "axHMD2flvHbw"
      }
    },
    {
      "cell_type": "code",
      "source": [],
      "metadata": {
        "id": "9yyiAXtS1Hed"
      },
      "execution_count": null,
      "outputs": []
    },
    {
      "cell_type": "markdown",
      "source": [
        "Assignment 3:\n",
        "Problem Statement:\n",
        "\n",
        "Implement a Student class with encapsulated attributes for a student's name, roll number, and grades. Include a method to calculate the average grade and display the student's information. Create an object of the Student class and demonstrate its functionality."
      ],
      "metadata": {
        "id": "2XBRnf55vVPY"
      }
    },
    {
      "cell_type": "markdown",
      "source": [
        "Assignment 4:\n",
        "Problem Statement:\n",
        "Create a Python class named Rectangle with the following attributes and methods:\n",
        "\n",
        "Attributes: length and width\n",
        "Methods:\n",
        "__init__(self, length, width): Initializes the length and width attributes.\n",
        "calculate_area(self): Calculates and returns the area of the rectangle.\n",
        "calculate_perimeter(self): Calculates and returns the perimeter of the rectangle."
      ],
      "metadata": {
        "id": "4udrcweQyeSD"
      }
    },
    {
      "cell_type": "markdown",
      "source": [
        "Assignment 5:\n",
        "Problem Statement:\n",
        "Create a Python class named Student with the following attributes and methods:\n",
        "\n",
        "Attributes: name, age, grade\n",
        "Methods:\n",
        "__init__(self, name, age): Initializes the name, age, and sets grade to an initial value.\n",
        "set_grade(self, grade): Sets the grade of the student.\n",
        "get_details(self): Returns a string containing the details of the student (name, age, grade)."
      ],
      "metadata": {
        "id": "IqZtu3z8yplo"
      }
    },
    {
      "cell_type": "markdown",
      "source": [
        "Assignment 6:- Problem Statement: Create a Python class named Bank with the following features:\n",
        "\n",
        "The class should maintain a list of accounts. Each account should be an instance of the BankAccount class with attributes such as account_number, account_holder, balance, etc. Implement methods for adding a new account, searching for an account by account number, and transferring funds between two accounts.\n",
        "\n",
        "BankAccount Class:\n",
        "\n",
        "Attributes: account_number, account_holder, balance\n",
        "\n",
        "Methods:\n",
        "__init__(self, account_number, account_holder, initial_balance=0): Initializes the account with an account number, account holder name, and an optional initial balance (default is 0).\n",
        "\n",
        "deposit(self, amount): Deposits the specified amount into the account.\n",
        "\n",
        "withdraw(self, amount): Withdraws the specified amount from the account, if sufficient funds are available.\n",
        "\n",
        "get_balance(self): Returns the current balance of the account.\n",
        "\n",
        "\n",
        "Bank Class:\n",
        "\n",
        "Attributes: accounts (a list to store instances of BankAccount)\n",
        "\n",
        "Methods:\n",
        "__init__(self): Initializes an empty list of accounts.\n",
        "\n",
        "add_account(self, account): Adds a BankAccount instance to the list of accounts.\n",
        "\n",
        "find_account(self, account_number): Finds and returns a BankAccount instance based on the provided account number.\n",
        "\n",
        "transfer_funds(self, from_account_number, to_account_number, amount): Transfers funds from one account to another, updating their balances accordingly.\n",
        "\n",
        "Sample Input -\n",
        "\n",
        "Enter the number of accounts to create: 3\n",
        "\n",
        "Enter account number for Account 1: 123456\n",
        "\n",
        "Enter account holder name for Account 1: John Doe\n",
        "\n",
        "Enter initial balance for Account 1: 1000\n",
        "\n",
        "Enter account number for Account 2: 789012\n",
        "\n",
        "Enter account holder name for Account 2: Jane Smith\n",
        "\n",
        "Enter initial balance for Account 2: 1500\n",
        "\n",
        "Enter account number for Account 3: 456789\n",
        "\n",
        "Enter account holder name for Account 3: Alice Johnson\n",
        "\n",
        "Enter initial balance for Account 3: 800\n",
        "\n",
        "Enter source account number for fund transfer: 123456\n",
        "\n",
        "Enter destination account number for fund transfer: 789012\n",
        "\n",
        "Enter the amount to transfer: 200\n",
        "\n",
        "\n",
        "Sample Output -\n",
        "\n",
        "Initial Account Balances:\n",
        "\n",
        "Account 123456 - Balance: $1000.0\n",
        "\n",
        "Account 789012 - Balance: $1500.0\n",
        "\n",
        "Account 456789 - Balance: $800.0\n",
        "\n",
        "Funds transferred successfully.\n",
        "\n",
        "Updated Account Balances:\n",
        "\n",
        "Account 123456 - Balance: $800.0\n",
        "\n",
        "Account 789012 - Balance: $1700.0\n",
        "\n",
        "Account 456789 - Balance: $800.0\n"
      ],
      "metadata": {
        "id": "h3ADaVBj0olX"
      }
    },
    {
      "cell_type": "markdown",
      "source": [
        "#Assignment 7\n",
        "Problem Statement:\n",
        "Create a Python class named Library with the following features:\n",
        "\n",
        "The class should maintain a list of books.\n",
        "Each book should be an instance of the Book class with attributes such as title, author, publication_year, etc.\n",
        "Implement methods for adding a new book, searching for a book by title, and checking out a book (updating its availability status).\n",
        "Input:\n",
        "\n",
        "Allow the user to add multiple books by taking input for title, author, and publication year.\n",
        "Allow the user to search for a book by title.\n",
        "Allow the user to check out a book by title.\n",
        "\n",
        "Sample Input -\n",
        "\n",
        "Enter the number of books to add: 3\n",
        "\n",
        "Enter the title of Book 1: The Great Gatsby\n",
        "\n",
        "Enter the author of Book 1: F. Scott Fitzgerald\n",
        "\n",
        "Enter the publication year of Book 1: 1925\n",
        "\n",
        "Enter the title of Book 2: Pride and Prejudice\n",
        "\n",
        "Enter the author of Book 2: Jane Austen\n",
        "\n",
        "Enter the publication year of Book 2: 1813\n",
        "\n",
        "Enter the title of Book 3: To Kill a Mockingbird\n",
        "\n",
        "Enter the author of Book 3: Harper Lee\n",
        "\n",
        "Enter the publication year of Book 3: 1960\n",
        "\n",
        "Enter the title of the book to search: Pride and Prejudice\n",
        "\n",
        "Enter the title of the book to check out: To Kill a Mockingbird\n",
        "\n",
        "Sample Output -\n",
        "\n",
        "Book 'The Great Gatsby' added to the library.\n",
        "\n",
        "Book 'Pride and Prejudice' added to the library.\n",
        "\n",
        "Book 'To Kill a Mockingbird' added to the library.\n",
        "\n",
        "Book 'Pride and Prejudice' found in the library.\n",
        "\n",
        "Book 'To Kill a Mockingbird' checked out successfully."
      ],
      "metadata": {
        "id": "h1ofZ-ky0j9N"
      }
    },
    {
      "cell_type": "markdown",
      "source": [],
      "metadata": {
        "id": "PccT4pOyvDGv"
      }
    },
    {
      "cell_type": "markdown",
      "source": [
        "Tasks -\n",
        "\n",
        "Create a Python class named SmartHomeDevice with the following attributes and methods:\n",
        "\n",
        "Attributes:\n",
        "\n",
        "device_type: Type of smart home device (e.g., thermostat, smart bulb).\n",
        "status: Status of the device (initialized to \"Off\").\n",
        "\n",
        "Methods:\n",
        "\n",
        "__init__(self, device_type): Initializes the device type and sets the status to \"Off\".\n",
        "turn_on(self): Turns on the smart home device.\n",
        "turn_off(self): Turns off the smart home device.\n",
        "get_status(self): Returns a string containing the status of the device.\n",
        "\n",
        "\n",
        "\n",
        "Sample Input:\n",
        "\n",
        "smart_bulb = SmartHomeDevice(\"Smart Bulb\")\n",
        "\n",
        "\n",
        "smart_bulb.turn_on()\n",
        "\n",
        "\n",
        "status = smart_bulb.get_status()\n",
        "\n",
        "\n",
        "Sample Output:\n",
        "\n",
        "Smart Home Device Details:\n",
        "\n",
        "Device Type: Smart Bulb\n",
        "\n",
        "Status: On\n",
        "\n",
        "\n",
        "\n",
        "\n",
        "\n"
      ],
      "metadata": {
        "id": "5X1-vSmcNndR"
      }
    },
    {
      "cell_type": "code",
      "source": [
        "#SmartHomeDevice\n",
        "\n",
        "class SmartHomeDevice:\n",
        "    def __init__(self, device_type):\n",
        "        self.device_type = device_type\n",
        "        self.status = \"Off\"\n",
        "\n",
        "    def turn_on(self):\n",
        "        self.status = \"On\"\n",
        "\n",
        "    def turn_off(self):\n",
        "        self.status = \"Off\"\n",
        "\n",
        "    def get_status(self):\n",
        "        return f\"Smart Home Device Details:\\nDevice Type: {self.device_type}\\nStatus: {self.status}\"\n",
        "\n",
        "smart_bulb = SmartHomeDevice(\"Smart Bulb\")\n",
        "smart_bulb.turn_on()\n",
        "status = smart_bulb.get_status()\n",
        "print(status)"
      ],
      "metadata": {
        "colab": {
          "base_uri": "https://localhost:8080/"
        },
        "id": "Bp7FgjvlGXKg",
        "outputId": "fc0c517d-2bb6-4698-e072-451d43000e95"
      },
      "execution_count": null,
      "outputs": [
        {
          "output_type": "stream",
          "name": "stdout",
          "text": [
            "Smart Home Device Details:\n",
            "Device Type: Smart Bulb\n",
            "Status: On\n"
          ]
        }
      ]
    },
    {
      "cell_type": "markdown",
      "source": [
        "Create a Python class named MusicPlayer with the following attributes and methods:\n",
        "\n",
        "Attributes:\n",
        "\n",
        "song: Current playing song.\n",
        "volume: Volume level (initialized to 50).\n",
        "\n",
        "Methods:\n",
        "\n",
        "__init__(self): Initializes the music player with a default song and volume level.\n",
        "play_song(self, song): Plays the specified song.\n",
        "adjust_volume(self, volume): Adjusts the volume level.\n",
        "get_details(self): Returns a string containing the details of the music player (current song, volume).\n",
        "\n",
        "Sample Input:\n",
        "\n",
        "music_player = MusicPlayer()\n",
        "\n",
        "\n",
        "music_player.play_song(\"Shape of You\")\n",
        "\n",
        "\n",
        "music_player.adjust_volume(75)\n",
        "\n",
        "\n",
        "details = music_player.get_details()\n",
        "\n",
        "\n",
        "Sample Output:\n",
        "\n",
        "Music Player Details:\n",
        "Current Song: Shape of You\n",
        "Volume: 75"
      ],
      "metadata": {
        "id": "e8N9ejEBPhS5"
      }
    },
    {
      "cell_type": "code",
      "source": [
        "#MusicPlayer\n",
        "\n",
        "class MusicPlayer:\n",
        "    def __init__(self):\n",
        "        self.song = \"Default Song\"\n",
        "        self.volume = 50\n",
        "\n",
        "    def play_song(self, song):\n",
        "        self.song = song\n",
        "\n",
        "    def adjust_volume(self, volume):\n",
        "        self.volume = volume\n",
        "\n",
        "    def get_details(self):\n",
        "        return f\"Music Player Details:\\nCurrent Song: {self.song}\\nVolume: {self.volume}\"\n",
        "\n",
        "music_player = MusicPlayer()\n",
        "music_player.play_song(\"Shape of You\")\n",
        "music_player.adjust_volume(75)\n",
        "print(music_player.get_details())"
      ],
      "metadata": {
        "colab": {
          "base_uri": "https://localhost:8080/"
        },
        "id": "NL-F-PKKG8-f",
        "outputId": "430ea13a-6464-4d18-ed43-c39547bd610f"
      },
      "execution_count": null,
      "outputs": [
        {
          "output_type": "stream",
          "name": "stdout",
          "text": [
            "Music Player Details:\n",
            "Current Song: Shape of You\n",
            "Volume: 75\n"
          ]
        }
      ]
    },
    {
      "cell_type": "markdown",
      "source": [
        "Create a Python class named WeatherStation with the following attributes and methods:\n",
        "\n",
        "Attributes:\n",
        "\n",
        "location: Location of the weather station.\n",
        "temperature: Current temperature.\n",
        "humidity: Current humidity level.\n",
        "weather_condition: Current weather condition (e.g., sunny, rainy).\n",
        "\n",
        "Methods:\n",
        "\n",
        "__init__(self, location): Initializes the weather station with a specified location.\n",
        "update_weather(self, temperature, humidity, weather_condition): Updates the weather information.\n",
        "get_weather_details(self): Returns a string containing the details of the current weather.\n",
        "\n",
        "Sample Input:\n",
        "\n",
        "\n",
        "weather_station = WeatherStation(\"City Center\")\n",
        "\n",
        "\n",
        "weather_station.update_weather(28, 70, \"Sunny\")\n",
        "\n",
        "\n",
        "weather_details = weather_station.get_weather_details()\n",
        "\n",
        "\n",
        "Sample Output:\n",
        "\n",
        "Weather Station Details:\n",
        "Location: City Center\n",
        "Temperature: 28°C\n",
        "Humidity: 70%\n",
        "Weather Condition: Sunny"
      ],
      "metadata": {
        "id": "wu2vH_k3P7PD"
      }
    },
    {
      "cell_type": "code",
      "source": [
        "#WeatherStation\n",
        "\n",
        "class WeatherStation:\n",
        "    def __init__(self, location):\n",
        "        self.location = location\n",
        "        self.temperature = 0\n",
        "        self.humidity = 0\n",
        "        self.weather_condition = \"Not Set\"\n",
        "\n",
        "    def update_weather(self, temperature, humidity, weather_condition):\n",
        "        self.temperature = temperature\n",
        "        self.humidity = humidity\n",
        "        self.weather_condition = weather_condition\n",
        "\n",
        "    def get_weather_details(self):\n",
        "        return f\"Weather Station Details:\\nLocation: {self.location}\\nTemperature: {self.temperature}°C\\nHumidity: {self.humidity}%\\nWeather Condition: {self.weather_condition}\"\n",
        "\n",
        "weather_station = WeatherStation(\"City Center\")\n",
        "weather_station.update_weather(28, 70, \"Sunny\")\n",
        "print(weather_station.get_weather_details())"
      ],
      "metadata": {
        "colab": {
          "base_uri": "https://localhost:8080/"
        },
        "id": "fiOF8_YPHMiV",
        "outputId": "c02420de-bb2c-44c9-9477-7b72bd5041f4"
      },
      "execution_count": null,
      "outputs": [
        {
          "output_type": "stream",
          "name": "stdout",
          "text": [
            "Weather Station Details:\n",
            "Location: City Center\n",
            "Temperature: 28°C\n",
            "Humidity: 70%\n",
            "Weather Condition: Sunny\n"
          ]
        }
      ]
    },
    {
      "cell_type": "markdown",
      "source": [],
      "metadata": {
        "id": "NkG-rIFDQvE4"
      }
    },
    {
      "cell_type": "markdown",
      "source": [
        "Create a Python class named FitnessTracker with the following attributes and methods:\n",
        "\n",
        "Attributes:\n",
        "\n",
        "user_name: User's name.\n",
        "total_steps: Total steps taken.\n",
        "calories_burned: Total calories burned.\n",
        "activity_type: Current activity type (e.g., walking, running).\n",
        "\n",
        "Methods:\n",
        "\n",
        "__init__(self, user_name): Initializes the fitness tracker with the user's name.\n",
        "log_activity(self, steps, calories, activity_type): Logs a new activity.\n",
        "get_fitness_summary(self): Returns a string containing the fitness summary.\n",
        "\n",
        "Sample Input:\n",
        "\n",
        "\n",
        "fitness_tracker = FitnessTracker(\"Alice\")\n",
        "\n",
        "\n",
        "fitness_tracker.log_activity(8000, 400, \"Running\")\n",
        "\n",
        "\n",
        "fitness_summary = fitness_tracker.get_fitness_summary()\n",
        "\n",
        "\n",
        "Sample Output:\n",
        "\n",
        "Fitness Tracker Summary:\n",
        "\n",
        "User: Alice\n",
        "\n",
        "Total Steps: 8000\n",
        "\n",
        "Calories Burned: 400\n",
        "\n",
        "Current Activity: Running"
      ],
      "metadata": {
        "id": "Z6dg4dDmQUnr"
      }
    },
    {
      "cell_type": "code",
      "source": [
        "#FitnessTracker\n",
        "\n",
        "class FitnessTracker:\n",
        "    def __init__(self, user_name):\n",
        "        self.user_name = user_name\n",
        "        self.total_steps = 0\n",
        "        self.calories_burned = 0\n",
        "        self.activity_type = \"Not Set\"\n",
        "\n",
        "    def log_activity(self, steps, calories, activity_type):\n",
        "        self.total_steps += steps\n",
        "        self.calories_burned += calories\n",
        "        self.activity_type = activity_type\n",
        "\n",
        "    def get_fitness_summary(self):\n",
        "        return f\"Fitness Tracker Summary:\\nUser: {self.user_name}\\nTotal Steps: {self.total_steps}\\nCalories Burned: {self.calories_burned}\\nCurrent Activity: {self.activity_type}\"\n",
        "\n",
        "# Example usage:\n",
        "fitness_tracker = FitnessTracker(\"Alice\")\n",
        "fitness_tracker.log_activity(8000, 400, \"Running\")\n",
        "print(fitness_tracker.get_fitness_summary())"
      ],
      "metadata": {
        "colab": {
          "base_uri": "https://localhost:8080/"
        },
        "id": "BfgDxhW4HWjZ",
        "outputId": "2640e442-302c-4fca-90ca-120959d9dd00"
      },
      "execution_count": null,
      "outputs": [
        {
          "output_type": "stream",
          "name": "stdout",
          "text": [
            "Fitness Tracker Summary:\n",
            "User: Alice\n",
            "Total Steps: 8000\n",
            "Calories Burned: 400\n",
            "Current Activity: Running\n"
          ]
        }
      ]
    },
    {
      "cell_type": "markdown",
      "source": [
        "Create a Python class named GardenPlanner with the following attributes and methods:\n",
        "\n",
        "Attributes:\n",
        "\n",
        "garden_name: Name of the garden.\n",
        "plants: List of plants in the garden.\n",
        "soil_quality: Soil quality level.\n",
        "\n",
        "Methods:\n",
        "\n",
        "__init__(self, garden_name, soil_quality): Initializes the garden planner with a specified name and soil quality.\n",
        "add_plant(self, plant_name): Adds a new plant to the garden.\n",
        "remove_plant(self, plant_name): Removes a plant from the garden.\n",
        "analyze_soil(self): Analyzes and updates the soil quality level.\n",
        "get_garden_details(self): Returns a string containing the details of the garden.\n",
        "\n",
        "Sample Input:\n",
        "\n",
        "\n",
        "garden_planner = GardenPlanner(\"My Garden\", \"Fertile\")\n",
        "\n",
        "\n",
        "garden_planner.add_plant(\"Roses\")\n",
        "garden_planner.add_plant(\"Tomatoes\")\n",
        "\n",
        "\n",
        "garden_planner.remove_plant(\"Tomatoes\")\n",
        "\n",
        "\n",
        "garden_planner.analyze_soil()\n",
        "\n",
        "\n",
        "garden_details = garden_planner.get_garden_details()\n",
        "\n",
        "\n",
        "Sample Output -\n",
        "\n",
        "Garden Planner Details:\n",
        "\n",
        "Garden Name: My Garden\n",
        "\n",
        "Plants: ['Roses']\n",
        "\n",
        "Soil Quality: Very Fertile"
      ],
      "metadata": {
        "id": "mNbJVqIBQ0dY"
      }
    },
    {
      "cell_type": "code",
      "source": [
        "#GardenPlanner\n",
        "\n",
        "class GardenPlanner:\n",
        "    def __init__(self, garden_name, soil_quality):\n",
        "        self.garden_name = garden_name\n",
        "        self.plants = []\n",
        "        self.soil_quality = soil_quality\n",
        "\n",
        "    def add_plant(self, plant_name):\n",
        "        self.plants.append(plant_name)\n",
        "\n",
        "    def remove_plant(self, plant_name):\n",
        "        if plant_name in self.plants:\n",
        "            self.plants.remove(plant_name)\n",
        "\n",
        "    def analyze_soil(self):\n",
        "        self.soil_quality = \"Very Fertile\"\n",
        "\n",
        "    def get_garden_details(self):\n",
        "        return f\"Garden Name: {self.garden_name}\\nPlants: {self.plants}\\nSoil Quality: {self.soil_quality}\"\n",
        "\n",
        "garden_planner = GardenPlanner(\"My Garden\", \"Fertile\")\n",
        "garden_planner.add_plant(\"Roses\")\n",
        "garden_planner.add_plant(\"Tomatoes\")\n",
        "garden_planner.remove_plant(\"Tomatoes\")\n",
        "garden_planner.analyze_soil()\n",
        "print(garden_planner.get_garden_details())"
      ],
      "metadata": {
        "colab": {
          "base_uri": "https://localhost:8080/"
        },
        "id": "_DUt2u1JHfbv",
        "outputId": "5fdb3e7f-f228-4484-f822-8645cb4e3933"
      },
      "execution_count": null,
      "outputs": [
        {
          "output_type": "stream",
          "name": "stdout",
          "text": [
            "Garden Name: My Garden\n",
            "Plants: ['Roses']\n",
            "Soil Quality: Very Fertile\n"
          ]
        }
      ]
    },
    {
      "cell_type": "markdown",
      "source": [
        "Create a Python class named LanguageTranslator with the following attributes and methods:\n",
        "\n",
        "Attributes:\n",
        "\n",
        "source_language: Source language of the text.\n",
        "target_language: Target language for translation.\n",
        "text_to_translate: Text to be translated.\n",
        "translated_text: Translated text.\n",
        "\n",
        "Methods:\n",
        "\n",
        "__init__(self, source_language, target_language, text_to_translate): Initializes the language translator with source language, target language, and text.\n",
        "translate_text(self): Performs the translation and updates the translated text.\n",
        "get_translation_details(self): Returns a string containing the translation details.\n",
        "\n",
        "Sample Input:\n",
        "\n",
        "\n",
        "translator = LanguageTranslator(\"English\", \"French\", \"Hello, how are you?\")\n",
        "\n",
        "\n",
        "translator.translate_text()\n",
        "\n",
        "\n",
        "translation_details = translator.get_translation_details()\n",
        "\n",
        "\n",
        "Sample Output -\n",
        "\n",
        "Translation Details:\n",
        "\n",
        "Source Language: English\n",
        "\n",
        "Target Language: French\n",
        "\n",
        "Original Text: Hello, how are you?\n",
        "\n",
        "Translated Text: Bonjour, comment ça va?"
      ],
      "metadata": {
        "id": "OTFJsVtwRzvD"
      }
    },
    {
      "cell_type": "code",
      "source": [
        "#Translator\n",
        "\n",
        "\n",
        "class LanguageTranslator:\n",
        "    def __init__(self, source_language, target_language, text_to_translate):\n",
        "        self.source_language = source_language\n",
        "        self.target_language = target_language\n",
        "        self.text_to_translate = text_to_translate\n",
        "        self.translated_text = \"\"\n",
        "\n",
        "    def translate_text(self):\n",
        "        self.translated_text = f\"Translation from {self.source_language} to {self.target_language}: {self.text_to_translate}\"\n",
        "\n",
        "    def get_translation_details(self):\n",
        "        return f\"Source Language: {self.source_language}\\nTarget Language: {self.target_language}\\nOriginal Text: {self.text_to_translate}\\nTranslated Text: {self.translated_text}\"\n",
        "\n",
        "translator = LanguageTranslator(\"English\", \"French\", \"Hello, how are you?\")\n",
        "translator.translate_text()\n",
        "print(translator.get_translation_details())"
      ],
      "metadata": {
        "colab": {
          "base_uri": "https://localhost:8080/"
        },
        "id": "RgmdPnZgHu0v",
        "outputId": "cb42429d-da70-4edb-ce98-4ea53b4efb81"
      },
      "execution_count": null,
      "outputs": [
        {
          "output_type": "stream",
          "name": "stdout",
          "text": [
            "Source Language: English\n",
            "Target Language: French\n",
            "Original Text: Hello, how are you?\n",
            "Translated Text: Translation from English to French: Hello, how are you?\n"
          ]
        }
      ]
    },
    {
      "cell_type": "markdown",
      "source": [
        "# Problem Statement:\n",
        "# Create a Python class named FileHandler that represents a simple file handler. The class should have the following features:\n",
        "\n",
        "# The class should have an initializer (__init__) that takes a filename and a mode as parameters and opens the file in the specified mode.\n",
        "# Implement a method write_data(self, data) to write data to the file.\n",
        "# Include a destructor (__del__) that ensures the file is closed when the object is destroyed.\n",
        "\n",
        "# Sample Input:\n",
        "# No direct input is required for this code. It demonstrates the usage of the FileHandler class.\n",
        "\n",
        "# Sample Output:\n",
        "# File 'example.txt' opened in 'w' mode.\n",
        "# Data written to 'example.txt'.\n",
        "# File 'example.txt' closed."
      ],
      "metadata": {
        "id": "l99ogO8_gKwH"
      }
    },
    {
      "cell_type": "markdown",
      "source": [],
      "metadata": {
        "id": "w3ZY5cNYSY4D"
      }
    }
  ]
}